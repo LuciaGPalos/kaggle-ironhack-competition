{
 "cells": [
  {
   "cell_type": "code",
   "execution_count": 1,
   "id": "bc278158",
   "metadata": {},
   "outputs": [],
   "source": [
    "import numpy as np\n",
    "import pandas as pd\n",
    "import matplotlib.pyplot as plt\n",
    "import seaborn as sns\n",
    "\n",
    "from sklearn.model_selection import train_test_split\n",
    "from sklearn.compose import ColumnTransformer\n",
    "from sklearn.preprocessing import OneHotEncoder\n",
    "from sklearn.preprocessing import StandardScaler\n",
    "from sklearn.pipeline import Pipeline\n",
    "from sklearn.model_selection import GridSearchCV\n",
    "from sklearn.linear_model import LogisticRegression\n",
    "from sklearn.ensemble import GradientBoostingClassifier"
   ]
  },
  {
   "cell_type": "code",
   "execution_count": 2,
   "id": "ac1f86d3",
   "metadata": {},
   "outputs": [],
   "source": [
    "from sklearn.metrics import roc_auc_score\n",
    "from sklearn.metrics import confusion_matrix, ConfusionMatrixDisplay \n",
    "from sklearn.model_selection import RandomizedSearchCV\n",
    "from scipy.stats import uniform"
   ]
  },
  {
   "cell_type": "code",
   "execution_count": 3,
   "id": "00f3b226",
   "metadata": {},
   "outputs": [],
   "source": [
    "train = pd.read_csv('z_train.csv')\n",
    "test = pd.read_csv('z_test.csv')\n",
    "data = {'train' : train, 'test' : test} #diccionario para hacer referencia en key y poder jugar entre train y test más fácil"
   ]
  },
  {
   "cell_type": "markdown",
   "id": "31f9630a",
   "metadata": {},
   "source": [
    "## Missing Data"
   ]
  },
  {
   "cell_type": "markdown",
   "id": "e1416f4c-3607-404d-a6f9-607db99d1754",
   "metadata": {},
   "source": [
    "### Train"
   ]
  },
  {
   "cell_type": "code",
   "execution_count": 4,
   "id": "469bfe2b-de35-44af-9df5-aeed0f32a9fb",
   "metadata": {},
   "outputs": [
    {
     "data": {
      "text/html": [
       "<div>\n",
       "<style scoped>\n",
       "    .dataframe tbody tr th:only-of-type {\n",
       "        vertical-align: middle;\n",
       "    }\n",
       "\n",
       "    .dataframe tbody tr th {\n",
       "        vertical-align: top;\n",
       "    }\n",
       "\n",
       "    .dataframe thead th {\n",
       "        text-align: right;\n",
       "    }\n",
       "</style>\n",
       "<table border=\"1\" class=\"dataframe\">\n",
       "  <thead>\n",
       "    <tr style=\"text-align: right;\">\n",
       "      <th></th>\n",
       "      <th>enrollee_id</th>\n",
       "      <th>city</th>\n",
       "      <th>city_development_index</th>\n",
       "      <th>gender</th>\n",
       "      <th>relevent_experience</th>\n",
       "      <th>enrolled_university</th>\n",
       "      <th>education_level</th>\n",
       "      <th>major_discipline</th>\n",
       "      <th>experience</th>\n",
       "      <th>company_size</th>\n",
       "      <th>company_type</th>\n",
       "      <th>last_new_job</th>\n",
       "      <th>training_hours</th>\n",
       "      <th>target</th>\n",
       "    </tr>\n",
       "  </thead>\n",
       "  <tbody>\n",
       "    <tr>\n",
       "      <th>0</th>\n",
       "      <td>8949</td>\n",
       "      <td>city_103</td>\n",
       "      <td>0.920</td>\n",
       "      <td>Male</td>\n",
       "      <td>Has relevent experience</td>\n",
       "      <td>no_enrollment</td>\n",
       "      <td>Graduate</td>\n",
       "      <td>STEM</td>\n",
       "      <td>&gt;20</td>\n",
       "      <td>NaN</td>\n",
       "      <td>NaN</td>\n",
       "      <td>1</td>\n",
       "      <td>36</td>\n",
       "      <td>1.0</td>\n",
       "    </tr>\n",
       "    <tr>\n",
       "      <th>1</th>\n",
       "      <td>29725</td>\n",
       "      <td>city_40</td>\n",
       "      <td>0.776</td>\n",
       "      <td>Male</td>\n",
       "      <td>No relevent experience</td>\n",
       "      <td>no_enrollment</td>\n",
       "      <td>Graduate</td>\n",
       "      <td>STEM</td>\n",
       "      <td>15</td>\n",
       "      <td>50-99</td>\n",
       "      <td>Pvt Ltd</td>\n",
       "      <td>&gt;4</td>\n",
       "      <td>47</td>\n",
       "      <td>0.0</td>\n",
       "    </tr>\n",
       "    <tr>\n",
       "      <th>2</th>\n",
       "      <td>11561</td>\n",
       "      <td>city_21</td>\n",
       "      <td>0.624</td>\n",
       "      <td>NaN</td>\n",
       "      <td>No relevent experience</td>\n",
       "      <td>Full time course</td>\n",
       "      <td>Graduate</td>\n",
       "      <td>STEM</td>\n",
       "      <td>5</td>\n",
       "      <td>NaN</td>\n",
       "      <td>NaN</td>\n",
       "      <td>never</td>\n",
       "      <td>83</td>\n",
       "      <td>0.0</td>\n",
       "    </tr>\n",
       "    <tr>\n",
       "      <th>3</th>\n",
       "      <td>33241</td>\n",
       "      <td>city_115</td>\n",
       "      <td>0.789</td>\n",
       "      <td>NaN</td>\n",
       "      <td>No relevent experience</td>\n",
       "      <td>NaN</td>\n",
       "      <td>Graduate</td>\n",
       "      <td>Business Degree</td>\n",
       "      <td>&lt;1</td>\n",
       "      <td>NaN</td>\n",
       "      <td>Pvt Ltd</td>\n",
       "      <td>never</td>\n",
       "      <td>52</td>\n",
       "      <td>1.0</td>\n",
       "    </tr>\n",
       "    <tr>\n",
       "      <th>4</th>\n",
       "      <td>21651</td>\n",
       "      <td>city_176</td>\n",
       "      <td>0.764</td>\n",
       "      <td>NaN</td>\n",
       "      <td>Has relevent experience</td>\n",
       "      <td>Part time course</td>\n",
       "      <td>Graduate</td>\n",
       "      <td>STEM</td>\n",
       "      <td>11</td>\n",
       "      <td>NaN</td>\n",
       "      <td>NaN</td>\n",
       "      <td>1</td>\n",
       "      <td>24</td>\n",
       "      <td>1.0</td>\n",
       "    </tr>\n",
       "  </tbody>\n",
       "</table>\n",
       "</div>"
      ],
      "text/plain": [
       "   enrollee_id      city  city_development_index gender  \\\n",
       "0         8949  city_103                   0.920   Male   \n",
       "1        29725   city_40                   0.776   Male   \n",
       "2        11561   city_21                   0.624    NaN   \n",
       "3        33241  city_115                   0.789    NaN   \n",
       "4        21651  city_176                   0.764    NaN   \n",
       "\n",
       "       relevent_experience enrolled_university education_level  \\\n",
       "0  Has relevent experience       no_enrollment        Graduate   \n",
       "1   No relevent experience       no_enrollment        Graduate   \n",
       "2   No relevent experience    Full time course        Graduate   \n",
       "3   No relevent experience                 NaN        Graduate   \n",
       "4  Has relevent experience    Part time course        Graduate   \n",
       "\n",
       "  major_discipline experience company_size company_type last_new_job  \\\n",
       "0             STEM        >20          NaN          NaN            1   \n",
       "1             STEM         15        50-99      Pvt Ltd           >4   \n",
       "2             STEM          5          NaN          NaN        never   \n",
       "3  Business Degree         <1          NaN      Pvt Ltd        never   \n",
       "4             STEM         11          NaN          NaN            1   \n",
       "\n",
       "   training_hours  target  \n",
       "0              36     1.0  \n",
       "1              47     0.0  \n",
       "2              83     0.0  \n",
       "3              52     1.0  \n",
       "4              24     1.0  "
      ]
     },
     "execution_count": 4,
     "metadata": {},
     "output_type": "execute_result"
    }
   ],
   "source": [
    "key = 'train'\n",
    "data[key].head()"
   ]
  },
  {
   "cell_type": "code",
   "execution_count": 5,
   "id": "3898389d-762b-45a1-a66b-003bd108a845",
   "metadata": {},
   "outputs": [
    {
     "data": {
      "text/plain": [
       "array(['Has relevent experience', 'No relevent experience'], dtype=object)"
      ]
     },
     "execution_count": 5,
     "metadata": {},
     "output_type": "execute_result"
    }
   ],
   "source": [
    "data[key]['relevent_experience'].unique()"
   ]
  },
  {
   "cell_type": "code",
   "execution_count": 6,
   "id": "d808165e-765c-451a-903e-e4e54e35a045",
   "metadata": {},
   "outputs": [
    {
     "data": {
      "text/plain": [
       "(15326, 14)"
      ]
     },
     "execution_count": 6,
     "metadata": {},
     "output_type": "execute_result"
    }
   ],
   "source": [
    "data[key].shape"
   ]
  },
  {
   "cell_type": "code",
   "execution_count": 7,
   "id": "1016af5c-fe84-4fd0-b6af-69560b64f267",
   "metadata": {},
   "outputs": [
    {
     "name": "stdout",
     "output_type": "stream",
     "text": [
      "<class 'pandas.core.frame.DataFrame'>\n",
      "RangeIndex: 15326 entries, 0 to 15325\n",
      "Data columns (total 14 columns):\n",
      " #   Column                  Non-Null Count  Dtype  \n",
      "---  ------                  --------------  -----  \n",
      " 0   enrollee_id             15326 non-null  int64  \n",
      " 1   city                    15326 non-null  object \n",
      " 2   city_development_index  15326 non-null  float64\n",
      " 3   gender                  11725 non-null  object \n",
      " 4   relevent_experience     15326 non-null  object \n",
      " 5   enrolled_university     15024 non-null  object \n",
      " 6   education_level         14957 non-null  object \n",
      " 7   major_discipline        13089 non-null  object \n",
      " 8   experience              15276 non-null  object \n",
      " 9   company_size            10592 non-null  object \n",
      " 10  company_type            10435 non-null  object \n",
      " 11  last_new_job            14987 non-null  object \n",
      " 12  training_hours          15326 non-null  int64  \n",
      " 13  target                  15326 non-null  float64\n",
      "dtypes: float64(2), int64(2), object(10)\n",
      "memory usage: 1.6+ MB\n"
     ]
    }
   ],
   "source": [
    "data[key].info() #hipotesis: city_development_index y training_hours son las únicas variables continuas (sin enrollee_id) ---las demas son objetos"
   ]
  },
  {
   "cell_type": "code",
   "execution_count": 8,
   "id": "e86a4817",
   "metadata": {},
   "outputs": [
    {
     "data": {
      "text/plain": [
       "enrollee_id               0.000000\n",
       "city                      0.000000\n",
       "city_development_index    0.000000\n",
       "gender                    0.234960\n",
       "relevent_experience       0.000000\n",
       "enrolled_university       0.019705\n",
       "education_level           0.024077\n",
       "major_discipline          0.145961\n",
       "experience                0.003262\n",
       "company_size              0.308887\n",
       "company_type              0.319131\n",
       "last_new_job              0.022119\n",
       "training_hours            0.000000\n",
       "target                    0.000000\n",
       "dtype: float64"
      ]
     },
     "execution_count": 8,
     "metadata": {},
     "output_type": "execute_result"
    }
   ],
   "source": [
    "data[key].isna().sum() / len(data[key]) #porcentaje de nulos"
   ]
  },
  {
   "cell_type": "markdown",
   "id": "7e726eb6-b8e8-423f-8f17-746885bcbe1c",
   "metadata": {},
   "source": [
    "### Test"
   ]
  },
  {
   "cell_type": "code",
   "execution_count": 9,
   "id": "4d2b8e2c-98f7-47f7-9eb1-5a0abdacb77a",
   "metadata": {},
   "outputs": [
    {
     "data": {
      "text/html": [
       "<div>\n",
       "<style scoped>\n",
       "    .dataframe tbody tr th:only-of-type {\n",
       "        vertical-align: middle;\n",
       "    }\n",
       "\n",
       "    .dataframe tbody tr th {\n",
       "        vertical-align: top;\n",
       "    }\n",
       "\n",
       "    .dataframe thead th {\n",
       "        text-align: right;\n",
       "    }\n",
       "</style>\n",
       "<table border=\"1\" class=\"dataframe\">\n",
       "  <thead>\n",
       "    <tr style=\"text-align: right;\">\n",
       "      <th></th>\n",
       "      <th>enrollee_id</th>\n",
       "      <th>city</th>\n",
       "      <th>city_development_index</th>\n",
       "      <th>gender</th>\n",
       "      <th>relevent_experience</th>\n",
       "      <th>enrolled_university</th>\n",
       "      <th>education_level</th>\n",
       "      <th>major_discipline</th>\n",
       "      <th>experience</th>\n",
       "      <th>company_size</th>\n",
       "      <th>company_type</th>\n",
       "      <th>last_new_job</th>\n",
       "      <th>training_hours</th>\n",
       "    </tr>\n",
       "  </thead>\n",
       "  <tbody>\n",
       "    <tr>\n",
       "      <th>0</th>\n",
       "      <td>23603</td>\n",
       "      <td>city_160</td>\n",
       "      <td>0.920</td>\n",
       "      <td>Male</td>\n",
       "      <td>No relevent experience</td>\n",
       "      <td>Full time course</td>\n",
       "      <td>Graduate</td>\n",
       "      <td>STEM</td>\n",
       "      <td>5</td>\n",
       "      <td>NaN</td>\n",
       "      <td>NaN</td>\n",
       "      <td>1</td>\n",
       "      <td>78</td>\n",
       "    </tr>\n",
       "    <tr>\n",
       "      <th>1</th>\n",
       "      <td>22499</td>\n",
       "      <td>city_45</td>\n",
       "      <td>0.890</td>\n",
       "      <td>NaN</td>\n",
       "      <td>Has relevent experience</td>\n",
       "      <td>Full time course</td>\n",
       "      <td>High School</td>\n",
       "      <td>NaN</td>\n",
       "      <td>6</td>\n",
       "      <td>50-99</td>\n",
       "      <td>Pvt Ltd</td>\n",
       "      <td>1</td>\n",
       "      <td>36</td>\n",
       "    </tr>\n",
       "    <tr>\n",
       "      <th>2</th>\n",
       "      <td>10465</td>\n",
       "      <td>city_149</td>\n",
       "      <td>0.689</td>\n",
       "      <td>Male</td>\n",
       "      <td>No relevent experience</td>\n",
       "      <td>no_enrollment</td>\n",
       "      <td>Graduate</td>\n",
       "      <td>STEM</td>\n",
       "      <td>5</td>\n",
       "      <td>NaN</td>\n",
       "      <td>NaN</td>\n",
       "      <td>never</td>\n",
       "      <td>34</td>\n",
       "    </tr>\n",
       "    <tr>\n",
       "      <th>3</th>\n",
       "      <td>8293</td>\n",
       "      <td>city_67</td>\n",
       "      <td>0.855</td>\n",
       "      <td>Female</td>\n",
       "      <td>Has relevent experience</td>\n",
       "      <td>no_enrollment</td>\n",
       "      <td>Masters</td>\n",
       "      <td>STEM</td>\n",
       "      <td>9</td>\n",
       "      <td>1000-4999</td>\n",
       "      <td>Pvt Ltd</td>\n",
       "      <td>1</td>\n",
       "      <td>149</td>\n",
       "    </tr>\n",
       "    <tr>\n",
       "      <th>4</th>\n",
       "      <td>4246</td>\n",
       "      <td>city_103</td>\n",
       "      <td>0.920</td>\n",
       "      <td>Male</td>\n",
       "      <td>Has relevent experience</td>\n",
       "      <td>no_enrollment</td>\n",
       "      <td>Graduate</td>\n",
       "      <td>STEM</td>\n",
       "      <td>16</td>\n",
       "      <td>50-99</td>\n",
       "      <td>Funded Startup</td>\n",
       "      <td>2</td>\n",
       "      <td>7</td>\n",
       "    </tr>\n",
       "  </tbody>\n",
       "</table>\n",
       "</div>"
      ],
      "text/plain": [
       "   enrollee_id      city  city_development_index  gender  \\\n",
       "0        23603  city_160                   0.920    Male   \n",
       "1        22499   city_45                   0.890     NaN   \n",
       "2        10465  city_149                   0.689    Male   \n",
       "3         8293   city_67                   0.855  Female   \n",
       "4         4246  city_103                   0.920    Male   \n",
       "\n",
       "       relevent_experience enrolled_university education_level  \\\n",
       "0   No relevent experience    Full time course        Graduate   \n",
       "1  Has relevent experience    Full time course     High School   \n",
       "2   No relevent experience       no_enrollment        Graduate   \n",
       "3  Has relevent experience       no_enrollment         Masters   \n",
       "4  Has relevent experience       no_enrollment        Graduate   \n",
       "\n",
       "  major_discipline experience company_size    company_type last_new_job  \\\n",
       "0             STEM          5          NaN             NaN            1   \n",
       "1              NaN          6        50-99         Pvt Ltd            1   \n",
       "2             STEM          5          NaN             NaN        never   \n",
       "3             STEM          9    1000-4999         Pvt Ltd            1   \n",
       "4             STEM         16        50-99  Funded Startup            2   \n",
       "\n",
       "   training_hours  \n",
       "0              78  \n",
       "1              36  \n",
       "2              34  \n",
       "3             149  \n",
       "4               7  "
      ]
     },
     "execution_count": 9,
     "metadata": {},
     "output_type": "execute_result"
    }
   ],
   "source": [
    "key = 'test'\n",
    "data[key].head()"
   ]
  },
  {
   "cell_type": "code",
   "execution_count": 10,
   "id": "a8aa9a6e-ccb8-4ec2-9e82-fa88919cfd4c",
   "metadata": {},
   "outputs": [
    {
     "data": {
      "text/plain": [
       "(3832, 13)"
      ]
     },
     "execution_count": 10,
     "metadata": {},
     "output_type": "execute_result"
    }
   ],
   "source": [
    "data[key].shape"
   ]
  },
  {
   "cell_type": "code",
   "execution_count": 11,
   "id": "cdf3c0bf-64ec-451b-ba99-0c4074415eb6",
   "metadata": {},
   "outputs": [
    {
     "name": "stdout",
     "output_type": "stream",
     "text": [
      "<class 'pandas.core.frame.DataFrame'>\n",
      "RangeIndex: 3832 entries, 0 to 3831\n",
      "Data columns (total 13 columns):\n",
      " #   Column                  Non-Null Count  Dtype  \n",
      "---  ------                  --------------  -----  \n",
      " 0   enrollee_id             3832 non-null   int64  \n",
      " 1   city                    3832 non-null   object \n",
      " 2   city_development_index  3832 non-null   float64\n",
      " 3   gender                  2925 non-null   object \n",
      " 4   relevent_experience     3832 non-null   object \n",
      " 5   enrolled_university     3748 non-null   object \n",
      " 6   education_level         3741 non-null   object \n",
      " 7   major_discipline        3256 non-null   object \n",
      " 8   experience              3817 non-null   object \n",
      " 9   company_size            2628 non-null   object \n",
      " 10  company_type            2583 non-null   object \n",
      " 11  last_new_job            3748 non-null   object \n",
      " 12  training_hours          3832 non-null   int64  \n",
      "dtypes: float64(1), int64(2), object(10)\n",
      "memory usage: 389.3+ KB\n"
     ]
    }
   ],
   "source": [
    "data[key].info() #hipotesis: city_development_index y training_hours son las únicas variables continuas (sin enrollee_id) ---las demas son objetos"
   ]
  },
  {
   "cell_type": "code",
   "execution_count": 12,
   "id": "ad6de757",
   "metadata": {},
   "outputs": [
    {
     "data": {
      "text/plain": [
       "enrollee_id               0.000000\n",
       "city                      0.000000\n",
       "city_development_index    0.000000\n",
       "gender                    0.236691\n",
       "relevent_experience       0.000000\n",
       "enrolled_university       0.021921\n",
       "education_level           0.023747\n",
       "major_discipline          0.150313\n",
       "experience                0.003914\n",
       "company_size              0.314196\n",
       "company_type              0.325939\n",
       "last_new_job              0.021921\n",
       "training_hours            0.000000\n",
       "dtype: float64"
      ]
     },
     "execution_count": 12,
     "metadata": {},
     "output_type": "execute_result"
    }
   ],
   "source": [
    "data[key].isna().sum() / len(data[key]) #porcentaje de nulos"
   ]
  },
  {
   "cell_type": "markdown",
   "id": "9e21b094-7476-432d-8438-074cd2629ca0",
   "metadata": {},
   "source": [
    "### Train & Test"
   ]
  },
  {
   "cell_type": "code",
   "execution_count": 13,
   "id": "c21b75dc",
   "metadata": {},
   "outputs": [],
   "source": [
    "data['train'] = data['train'].fillna('NULL')\n",
    "data['test'] = data['test'].fillna('NULL')"
   ]
  },
  {
   "cell_type": "code",
   "execution_count": 14,
   "id": "7bb545c4",
   "metadata": {},
   "outputs": [],
   "source": [
    "n = {'train' : len(data['train']), 'test' : len(data['test'])} #sample"
   ]
  },
  {
   "cell_type": "code",
   "execution_count": 15,
   "id": "05df846e-1e8f-471a-a872-5de6c3ab2e57",
   "metadata": {},
   "outputs": [
    {
     "data": {
      "text/plain": [
       "{'train': 15326, 'test': 3832}"
      ]
     },
     "execution_count": 15,
     "metadata": {},
     "output_type": "execute_result"
    }
   ],
   "source": [
    "n"
   ]
  },
  {
   "cell_type": "code",
   "execution_count": 16,
   "id": "947b27d3",
   "metadata": {},
   "outputs": [],
   "source": [
    "unique_df = {}\n",
    "\n",
    "for key in data:\n",
    "    unique_dict = {key_:\n",
    "                       [\n",
    "                        data[key][key_].nunique(),\n",
    "                        data[key][key_].nunique() / n[key]\n",
    "                       ]\n",
    "                   for key_ in data[key].columns}\n",
    "\n",
    "    aux = pd.DataFrame(unique_dict).transpose()\n",
    "    aux.columns = ['n_unique', '%_unique']\n",
    "    aux['n_unique'] = aux['n_unique'].astype(int)\n",
    "    unique_df[key] = aux"
   ]
  },
  {
   "cell_type": "code",
   "execution_count": 17,
   "id": "ea64cc26",
   "metadata": {},
   "outputs": [
    {
     "data": {
      "text/html": [
       "<div>\n",
       "<style scoped>\n",
       "    .dataframe tbody tr th:only-of-type {\n",
       "        vertical-align: middle;\n",
       "    }\n",
       "\n",
       "    .dataframe tbody tr th {\n",
       "        vertical-align: top;\n",
       "    }\n",
       "\n",
       "    .dataframe thead th {\n",
       "        text-align: right;\n",
       "    }\n",
       "</style>\n",
       "<table border=\"1\" class=\"dataframe\">\n",
       "  <thead>\n",
       "    <tr style=\"text-align: right;\">\n",
       "      <th></th>\n",
       "      <th>n_unique</th>\n",
       "      <th>%_unique</th>\n",
       "    </tr>\n",
       "  </thead>\n",
       "  <tbody>\n",
       "    <tr>\n",
       "      <th>enrollee_id</th>\n",
       "      <td>15326</td>\n",
       "      <td>1.000000</td>\n",
       "    </tr>\n",
       "    <tr>\n",
       "      <th>city</th>\n",
       "      <td>123</td>\n",
       "      <td>0.008026</td>\n",
       "    </tr>\n",
       "    <tr>\n",
       "      <th>city_development_index</th>\n",
       "      <td>93</td>\n",
       "      <td>0.006068</td>\n",
       "    </tr>\n",
       "    <tr>\n",
       "      <th>gender</th>\n",
       "      <td>4</td>\n",
       "      <td>0.000261</td>\n",
       "    </tr>\n",
       "    <tr>\n",
       "      <th>relevent_experience</th>\n",
       "      <td>2</td>\n",
       "      <td>0.000130</td>\n",
       "    </tr>\n",
       "    <tr>\n",
       "      <th>enrolled_university</th>\n",
       "      <td>4</td>\n",
       "      <td>0.000261</td>\n",
       "    </tr>\n",
       "    <tr>\n",
       "      <th>education_level</th>\n",
       "      <td>6</td>\n",
       "      <td>0.000391</td>\n",
       "    </tr>\n",
       "    <tr>\n",
       "      <th>major_discipline</th>\n",
       "      <td>7</td>\n",
       "      <td>0.000457</td>\n",
       "    </tr>\n",
       "    <tr>\n",
       "      <th>experience</th>\n",
       "      <td>23</td>\n",
       "      <td>0.001501</td>\n",
       "    </tr>\n",
       "    <tr>\n",
       "      <th>company_size</th>\n",
       "      <td>9</td>\n",
       "      <td>0.000587</td>\n",
       "    </tr>\n",
       "    <tr>\n",
       "      <th>company_type</th>\n",
       "      <td>7</td>\n",
       "      <td>0.000457</td>\n",
       "    </tr>\n",
       "    <tr>\n",
       "      <th>last_new_job</th>\n",
       "      <td>7</td>\n",
       "      <td>0.000457</td>\n",
       "    </tr>\n",
       "    <tr>\n",
       "      <th>training_hours</th>\n",
       "      <td>241</td>\n",
       "      <td>0.015725</td>\n",
       "    </tr>\n",
       "    <tr>\n",
       "      <th>target</th>\n",
       "      <td>2</td>\n",
       "      <td>0.000130</td>\n",
       "    </tr>\n",
       "  </tbody>\n",
       "</table>\n",
       "</div>"
      ],
      "text/plain": [
       "                        n_unique  %_unique\n",
       "enrollee_id                15326  1.000000\n",
       "city                         123  0.008026\n",
       "city_development_index        93  0.006068\n",
       "gender                         4  0.000261\n",
       "relevent_experience            2  0.000130\n",
       "enrolled_university            4  0.000261\n",
       "education_level                6  0.000391\n",
       "major_discipline               7  0.000457\n",
       "experience                    23  0.001501\n",
       "company_size                   9  0.000587\n",
       "company_type                   7  0.000457\n",
       "last_new_job                   7  0.000457\n",
       "training_hours               241  0.015725\n",
       "target                         2  0.000130"
      ]
     },
     "execution_count": 17,
     "metadata": {},
     "output_type": "execute_result"
    }
   ],
   "source": [
    "key = 'train'\n",
    "unique_df[key] #revisar que variables son continuas y cuales categoricas"
   ]
  },
  {
   "cell_type": "code",
   "execution_count": 18,
   "id": "0b2db341",
   "metadata": {},
   "outputs": [
    {
     "data": {
      "text/html": [
       "<div>\n",
       "<style scoped>\n",
       "    .dataframe tbody tr th:only-of-type {\n",
       "        vertical-align: middle;\n",
       "    }\n",
       "\n",
       "    .dataframe tbody tr th {\n",
       "        vertical-align: top;\n",
       "    }\n",
       "\n",
       "    .dataframe thead th {\n",
       "        text-align: right;\n",
       "    }\n",
       "</style>\n",
       "<table border=\"1\" class=\"dataframe\">\n",
       "  <thead>\n",
       "    <tr style=\"text-align: right;\">\n",
       "      <th></th>\n",
       "      <th>n_unique</th>\n",
       "      <th>%_unique</th>\n",
       "    </tr>\n",
       "  </thead>\n",
       "  <tbody>\n",
       "    <tr>\n",
       "      <th>enrollee_id</th>\n",
       "      <td>3832</td>\n",
       "      <td>1.000000</td>\n",
       "    </tr>\n",
       "    <tr>\n",
       "      <th>city</th>\n",
       "      <td>112</td>\n",
       "      <td>0.029228</td>\n",
       "    </tr>\n",
       "    <tr>\n",
       "      <th>city_development_index</th>\n",
       "      <td>83</td>\n",
       "      <td>0.021660</td>\n",
       "    </tr>\n",
       "    <tr>\n",
       "      <th>gender</th>\n",
       "      <td>4</td>\n",
       "      <td>0.001044</td>\n",
       "    </tr>\n",
       "    <tr>\n",
       "      <th>relevent_experience</th>\n",
       "      <td>2</td>\n",
       "      <td>0.000522</td>\n",
       "    </tr>\n",
       "    <tr>\n",
       "      <th>enrolled_university</th>\n",
       "      <td>4</td>\n",
       "      <td>0.001044</td>\n",
       "    </tr>\n",
       "    <tr>\n",
       "      <th>education_level</th>\n",
       "      <td>6</td>\n",
       "      <td>0.001566</td>\n",
       "    </tr>\n",
       "    <tr>\n",
       "      <th>major_discipline</th>\n",
       "      <td>7</td>\n",
       "      <td>0.001827</td>\n",
       "    </tr>\n",
       "    <tr>\n",
       "      <th>experience</th>\n",
       "      <td>23</td>\n",
       "      <td>0.006002</td>\n",
       "    </tr>\n",
       "    <tr>\n",
       "      <th>company_size</th>\n",
       "      <td>9</td>\n",
       "      <td>0.002349</td>\n",
       "    </tr>\n",
       "    <tr>\n",
       "      <th>company_type</th>\n",
       "      <td>7</td>\n",
       "      <td>0.001827</td>\n",
       "    </tr>\n",
       "    <tr>\n",
       "      <th>last_new_job</th>\n",
       "      <td>7</td>\n",
       "      <td>0.001827</td>\n",
       "    </tr>\n",
       "    <tr>\n",
       "      <th>training_hours</th>\n",
       "      <td>238</td>\n",
       "      <td>0.062109</td>\n",
       "    </tr>\n",
       "  </tbody>\n",
       "</table>\n",
       "</div>"
      ],
      "text/plain": [
       "                        n_unique  %_unique\n",
       "enrollee_id                 3832  1.000000\n",
       "city                         112  0.029228\n",
       "city_development_index        83  0.021660\n",
       "gender                         4  0.001044\n",
       "relevent_experience            2  0.000522\n",
       "enrolled_university            4  0.001044\n",
       "education_level                6  0.001566\n",
       "major_discipline               7  0.001827\n",
       "experience                    23  0.006002\n",
       "company_size                   9  0.002349\n",
       "company_type                   7  0.001827\n",
       "last_new_job                   7  0.001827\n",
       "training_hours               238  0.062109"
      ]
     },
     "execution_count": 18,
     "metadata": {},
     "output_type": "execute_result"
    }
   ],
   "source": [
    "key = 'test'\n",
    "unique_df[key] ##parece ser que hipotesis es correcta: city_development_index y training_hours son las únicas variables continuas (sin enrollee_id) "
   ]
  },
  {
   "cell_type": "code",
   "execution_count": 19,
   "id": "78490f5e-ed2c-4276-9e87-fccc58613967",
   "metadata": {},
   "outputs": [],
   "source": [
    "# city 123? wtf? que no es categorica?\n",
    "\n",
    "#data['train'].city.unique()\n",
    "\n",
    "#city es categorica, pero esta horrible entonces no la usaré por ahora #UPDATE ENTREGA 3: usare city para ver si cambia mi modelo\n",
    "\n",
    "#continuas: training_hours y city_development_index\n",
    "\n",
    "#experience tiene 23 valores, habrá que convertirlo a continua?"
   ]
  },
  {
   "cell_type": "code",
   "execution_count": 20,
   "id": "522ec473",
   "metadata": {},
   "outputs": [
    {
     "data": {
      "text/plain": [
       "<AxesSubplot:>"
      ]
     },
     "execution_count": 20,
     "metadata": {},
     "output_type": "execute_result"
    },
    {
     "data": {
      "image/png": "[encoded data removed]",
      "text/plain": [
       "<Figure size 432x288 with 1 Axes>"
      ]
     },
     "metadata": {
      "needs_background": "light"
     },
     "output_type": "display_data"
    }
   ],
   "source": [
    "col = 'city_development_index'\n",
    "data[key][col].hist()"
   ]
  },
  {
   "cell_type": "code",
   "execution_count": 21,
   "id": "f26b4253",
   "metadata": {},
   "outputs": [
    {
     "data": {
      "text/plain": [
       "<AxesSubplot:>"
      ]
     },
     "execution_count": 21,
     "metadata": {},
     "output_type": "execute_result"
    },
    {
     "data": {
      "image/png": "[encoded data removed]",
      "text/plain": [
       "<Figure size 432x288 with 1 Axes>"
      ]
     },
     "metadata": {
      "needs_background": "light"
     },
     "output_type": "display_data"
    }
   ],
   "source": [
    "col = 'training_hours'\n",
    "data[key][col].hist()"
   ]
  },
  {
   "cell_type": "code",
   "execution_count": 22,
   "id": "ff178dcf",
   "metadata": {},
   "outputs": [
    {
     "data": {
      "text/plain": [
       "<AxesSubplot:>"
      ]
     },
     "execution_count": 22,
     "metadata": {},
     "output_type": "execute_result"
    },
    {
     "data": {
      "image/png": "[encoded data removed]",
      "text/plain": [
       "<Figure size 432x288 with 1 Axes>"
      ]
     },
     "metadata": {
      "needs_background": "light"
     },
     "output_type": "display_data"
    }
   ],
   "source": [
    "col = 'experience'\n",
    "data[key][col].hist() #aunque es categorica, da histograma. La convertiré a continua"
   ]
  },
  {
   "cell_type": "markdown",
   "id": "f616eb59-09d1-4763-804d-083f71475a4c",
   "metadata": {},
   "source": [
    "#### Convertir Experience en variable continua"
   ]
  },
  {
   "cell_type": "code",
   "execution_count": 23,
   "id": "d0e4a581",
   "metadata": {},
   "outputs": [],
   "source": [
    "for key in data:\n",
    "\n",
    "    data[key]['experience'] = data[key]['experience'].apply(lambda x : 21 if x == '>20' else x)\n",
    "    data[key]['experience'] = data[key]['experience'].apply(lambda x : 0 if x == '<1' else x)\n",
    "    data[key]['experience'] = data[key]['experience'].apply(lambda x : 0 if x == 'NULL' else x)\n",
    "    data[key]['experience'] = data[key]['experience'].astype(int)"
   ]
  },
  {
   "cell_type": "code",
   "execution_count": 24,
   "id": "b4148327",
   "metadata": {},
   "outputs": [],
   "source": [
    "#revisar que NULL es sustituible por 0 con la hipotesis de que experiencia_relevante va a hacer match\n",
    "aux = data.copy()"
   ]
  },
  {
   "cell_type": "code",
   "execution_count": 25,
   "id": "aebb9a1a-c844-4497-ac4b-b93bca9b5d19",
   "metadata": {},
   "outputs": [
    {
     "data": {
      "text/plain": [
       "(15326, 14)"
      ]
     },
     "execution_count": 25,
     "metadata": {},
     "output_type": "execute_result"
    }
   ],
   "source": [
    "key = 'train'\n",
    "aux[key].shape"
   ]
  },
  {
   "cell_type": "code",
   "execution_count": 26,
   "id": "8da3590d-e379-433b-85a4-bf25e82c22f2",
   "metadata": {},
   "outputs": [],
   "source": [
    "aux['experiencia'] = aux[key]['experience'].apply(lambda x: 0 if x == 'NULL' else 1)\n",
    "aux['experiencia_relevante'] = aux[key]['relevent_experience'].apply(lambda x : 0 if x == 'No relevent experience' else 1)"
   ]
  },
  {
   "cell_type": "code",
   "execution_count": 27,
   "id": "254b025e-d2c6-4923-a656-f394297ef742",
   "metadata": {},
   "outputs": [],
   "source": [
    "y_actu = pd.Series(aux['experiencia_relevante'], name='experiencia_relevante')\n",
    "y_pred = pd.Series(aux['experiencia'], name='experiencia')"
   ]
  },
  {
   "cell_type": "code",
   "execution_count": 28,
   "id": "a0ea7fc4-80b0-42c3-b1b5-62eb4fda79ac",
   "metadata": {},
   "outputs": [
    {
     "data": {
      "text/html": [
       "<div>\n",
       "<style scoped>\n",
       "    .dataframe tbody tr th:only-of-type {\n",
       "        vertical-align: middle;\n",
       "    }\n",
       "\n",
       "    .dataframe tbody tr th {\n",
       "        vertical-align: top;\n",
       "    }\n",
       "\n",
       "    .dataframe thead th {\n",
       "        text-align: right;\n",
       "    }\n",
       "</style>\n",
       "<table border=\"1\" class=\"dataframe\">\n",
       "  <thead>\n",
       "    <tr style=\"text-align: right;\">\n",
       "      <th>experiencia</th>\n",
       "      <th>1</th>\n",
       "    </tr>\n",
       "    <tr>\n",
       "      <th>experiencia_relevante</th>\n",
       "      <th></th>\n",
       "    </tr>\n",
       "  </thead>\n",
       "  <tbody>\n",
       "    <tr>\n",
       "      <th>0</th>\n",
       "      <td>4258</td>\n",
       "    </tr>\n",
       "    <tr>\n",
       "      <th>1</th>\n",
       "      <td>11068</td>\n",
       "    </tr>\n",
       "  </tbody>\n",
       "</table>\n",
       "</div>"
      ],
      "text/plain": [
       "experiencia                1\n",
       "experiencia_relevante       \n",
       "0                       4258\n",
       "1                      11068"
      ]
     },
     "execution_count": 28,
     "metadata": {},
     "output_type": "execute_result"
    }
   ],
   "source": [
    "df_confusion = pd.crosstab(y_actu, y_pred) \n",
    "df_confusion\n",
    "#la minoría que tiene experiencia nula, no tiene experiencia relevante. Por lo que por ahora permitiremos data[key]['experience'] = data[key]['experience'].apply(lambda x : 0 if x == 'NULL' else x)"
   ]
  },
  {
   "cell_type": "code",
   "execution_count": 29,
   "id": "08ca04a7",
   "metadata": {},
   "outputs": [
    {
     "data": {
      "text/plain": [
       "<AxesSubplot:xlabel='experience', ylabel='Density'>"
      ]
     },
     "execution_count": 29,
     "metadata": {},
     "output_type": "execute_result"
    },
    {
     "data": {
      "image/png": "[encoded data removed]",
      "text/plain": [
       "<Figure size 864x576 with 1 Axes>"
      ]
     },
     "metadata": {
      "needs_background": "light"
     },
     "output_type": "display_data"
    }
   ],
   "source": [
    "fig, ax = plt.subplots(figsize=(12, 8))\n",
    "pos = data['train'][data['train']['target'] == 1] ##looking for a job change (azul)\n",
    "neg = data['train'][data['train']['target'] == 0] ##not looking for a job change (naranja)\n",
    "sns.kdeplot(pos['experience'])\n",
    "sns.kdeplot(neg['experience'])\n",
    "\n",
    "\n",
    "##entre mas experiencia, menos estan buscando un trabajo\n",
    "##entre menos experiencia, mas estan buscando un trabajo"
   ]
  },
  {
   "cell_type": "code",
   "execution_count": 30,
   "id": "5f39be0c",
   "metadata": {},
   "outputs": [],
   "source": [
    "mean_target = data[key]['target'].mean()"
   ]
  },
  {
   "cell_type": "code",
   "execution_count": 31,
   "id": "cd51665f",
   "metadata": {},
   "outputs": [
    {
     "data": {
      "text/plain": [
       "<matplotlib.lines.Line2D at 0x7fcc9c5a5130>"
      ]
     },
     "execution_count": 31,
     "metadata": {},
     "output_type": "execute_result"
    },
    {
     "data": {
      "image/png": "[encoded data removed]",
      "text/plain": [
       "<Figure size 864x576 with 1 Axes>"
      ]
     },
     "metadata": {
      "needs_background": "light"
     },
     "output_type": "display_data"
    }
   ],
   "source": [
    "col = 'education_level'\n",
    "\n",
    "agg = data[key].groupby(col)['target'].agg(['mean', 'std', 'count'])\n",
    "\n",
    "agg = agg.sort_values(by='mean')\n",
    "\n",
    "fig, ax = plt.subplots(figsize=(12, 8))\n",
    "ax.barh(agg.index, agg['mean'], xerr=agg['std'] / np.sqrt(agg['count']))\n",
    "ax.axvline(mean_target, color='black', linestyle='--')\n",
    "\n",
    "#dejaare NULL así"
   ]
  },
  {
   "cell_type": "code",
   "execution_count": 32,
   "id": "5eeab8ac",
   "metadata": {},
   "outputs": [
    {
     "data": {
      "text/plain": [
       "<matplotlib.lines.Line2D at 0x7fcc9c691460>"
      ]
     },
     "execution_count": 32,
     "metadata": {},
     "output_type": "execute_result"
    },
    {
     "data": {
      "image/png": "[encoded data removed]",
      "text/plain": [
       "<Figure size 864x576 with 1 Axes>"
      ]
     },
     "metadata": {
      "needs_background": "light"
     },
     "output_type": "display_data"
    }
   ],
   "source": [
    "col = 'major_discipline'\n",
    "\n",
    "agg = data[key].groupby(col)['target'].agg(['mean', 'std', 'count'])\n",
    "\n",
    "agg = agg.sort_values(by='mean')\n",
    "\n",
    "fig, ax = plt.subplots(figsize=(12, 8))\n",
    "ax.barh(agg.index, agg['mean'], xerr=agg['std'] / np.sqrt(agg['count']))\n",
    "ax.axvline(mean_target, color='black', linestyle='--')\n",
    "\n",
    "#dejaré igual variable asi por su varianza"
   ]
  },
  {
   "cell_type": "code",
   "execution_count": 33,
   "id": "8b11e1a4",
   "metadata": {},
   "outputs": [
    {
     "data": {
      "text/plain": [
       "<matplotlib.lines.Line2D at 0x7fcc9d57db80>"
      ]
     },
     "execution_count": 33,
     "metadata": {},
     "output_type": "execute_result"
    },
    {
     "data": {
      "image/png": "[encoded data removed]",
      "text/plain": [
       "<Figure size 864x576 with 1 Axes>"
      ]
     },
     "metadata": {
      "needs_background": "light"
     },
     "output_type": "display_data"
    }
   ],
   "source": [
    "col = 'gender'\n",
    "\n",
    "agg = data[key].groupby(col)['target'].agg(['mean', 'std', 'count'])\n",
    "\n",
    "agg = agg.sort_values(by='mean')\n",
    "\n",
    "fig, ax = plt.subplots(figsize=(12, 8))\n",
    "ax.barh(agg.index, agg['mean'], xerr=agg['std'] / np.sqrt(agg['count']))\n",
    "ax.axvline(mean_target, color='black', linestyle='--')"
   ]
  },
  {
   "cell_type": "code",
   "execution_count": 34,
   "id": "0cd88663",
   "metadata": {},
   "outputs": [
    {
     "data": {
      "text/plain": [
       "<matplotlib.lines.Line2D at 0x7fcc9d7ab910>"
      ]
     },
     "execution_count": 34,
     "metadata": {},
     "output_type": "execute_result"
    },
    {
     "data": {
      "image/png": "[encoded data removed]",
      "text/plain": [
       "<Figure size 864x576 with 1 Axes>"
      ]
     },
     "metadata": {
      "needs_background": "light"
     },
     "output_type": "display_data"
    }
   ],
   "source": [
    "col = 'company_type'\n",
    "\n",
    "agg = data[key].groupby(col)['target'].agg(['mean', 'std', 'count'])\n",
    "\n",
    "agg = agg.sort_values(by='mean')\n",
    "\n",
    "fig, ax = plt.subplots(figsize=(12, 8))\n",
    "ax.barh(agg.index, agg['mean'], xerr=agg['std'] / np.sqrt(agg['count']))\n",
    "ax.axvline(mean_target, color='black', linestyle='--')"
   ]
  },
  {
   "cell_type": "code",
   "execution_count": 56,
   "id": "2729e36c-4b8f-4ed0-af55-0d63766a6024",
   "metadata": {},
   "outputs": [
    {
     "data": {
      "text/plain": [
       "<matplotlib.lines.Line2D at 0x7fcc9d7abee0>"
      ]
     },
     "execution_count": 56,
     "metadata": {},
     "output_type": "execute_result"
    },
    {
     "data": {
      "image/png": "[encoded data removed]",
      "text/plain": [
       "<Figure size 864x576 with 1 Axes>"
      ]
     },
     "metadata": {
      "needs_background": "light"
     },
     "output_type": "display_data"
    }
   ],
   "source": [
    "col = 'enrolled_university'\n",
    "\n",
    "agg = data[key].groupby(col)['target'].agg(['mean', 'std', 'count'])\n",
    "\n",
    "agg = agg.sort_values(by='mean')\n",
    "\n",
    "fig, ax = plt.subplots(figsize=(12, 8))\n",
    "ax.barh(agg.index, agg['mean'], xerr=agg['std'] / np.sqrt(agg['count']))\n",
    "ax.axvline(mean_target, color='black', linestyle='--')"
   ]
  },
  {
   "cell_type": "markdown",
   "id": "9a7f4d07-f892-41ef-8a7d-eccb1a617fdf",
   "metadata": {},
   "source": [
    "#### Company Size a Continua"
   ]
  },
  {
   "cell_type": "code",
   "execution_count": 89,
   "id": "b1e0b9ff-0caf-4f82-be74-0c9a7b587559",
   "metadata": {},
   "outputs": [],
   "source": [
    "data['train']['company_size'] = data['train']['company_size'].apply(lambda x : 75 if x == '50-99' else x)\n",
    "data['train']['company_size'] = data['train']['company_size'].apply(lambda x : 350 if x == '100-500' else x)\n",
    "data['train']['company_size'] = data['train']['company_size'].apply(lambda x : 10000 if x == '10000+' else x)\n",
    "data['train']['company_size'] = data['train']['company_size'].apply(lambda x : 35 if x == '10/49' else x)\n",
    "data['train']['company_size'] = data['train']['company_size'].apply(lambda x : 3500 if x == '1000-4999' else x)\n",
    "data['train']['company_size'] = data['train']['company_size'].apply(lambda x : 5 if x == '<10' else x)\n",
    "data['train']['company_size'] = data['train']['company_size'].apply(lambda x : 750 if x == '500-999' else x)\n",
    "data['train']['company_size'] = data['train']['company_size'].apply(lambda x : 7500 if x == '5000-9999' else x)\n",
    "data['train']['company_size'] = data['train']['company_size'].apply(lambda x : None if x == 'NULL' else x)\n",
    "data['train']['company_size'] = data['train']['company_size'].fillna(data['train']['company_size'].mean())"
   ]
  },
  {
   "cell_type": "code",
   "execution_count": 90,
   "id": "70e39414-beb5-4645-86b6-8d34fc07a5f1",
   "metadata": {},
   "outputs": [],
   "source": [
    "data['train']['company_size'] = data['train']['company_size'].astype(int)"
   ]
  },
  {
   "cell_type": "code",
   "execution_count": 161,
   "id": "b710b96a-bfd0-4e30-845e-628237c91e86",
   "metadata": {},
   "outputs": [
    {
     "data": {
      "text/plain": [
       "<AxesSubplot:xlabel='company_size', ylabel='Density'>"
      ]
     },
     "execution_count": 161,
     "metadata": {},
     "output_type": "execute_result"
    },
    {
     "data": {
      "image/png": "[encoded data removed]",
      "text/plain": [
       "<Figure size 864x576 with 1 Axes>"
      ]
     },
     "metadata": {
      "needs_background": "light"
     },
     "output_type": "display_data"
    }
   ],
   "source": [
    "fig, ax = plt.subplots(figsize=(12, 8))\n",
    "pos = data['train'][data['train']['target'] == 1] ##looking for a job change (azul)\n",
    "neg = data['train'][data['train']['target'] == 0] ##not looking for a job change (naranja)\n",
    "sns.kdeplot(pos['company_size'])\n",
    "sns.kdeplot(neg['company_size'])\n",
    "\n",
    "## entre mayor es la empresa menor buscan cambiarse de trabajo (makes sense porque maybe pesa el prestigio)\n",
    "## entre mas chica es la empresa menos buscan cambiarse de trabajo\n",
    "## sesgo de media por nulls :/ por lo que mejor la dejo categorica!!!"
   ]
  },
  {
   "cell_type": "markdown",
   "id": "28fca89e",
   "metadata": {},
   "source": [
    "## Model"
   ]
  },
  {
   "cell_type": "code",
   "execution_count": 92,
   "id": "8e7e3d9c",
   "metadata": {},
   "outputs": [
    {
     "name": "stderr",
     "output_type": "stream",
     "text": [
      "/var/folders/8s/vcwxyvv93jlbc3gkwsvl2xtm0000gn/T/ipykernel_5110/2798608303.py:1: FutureWarning: In a future version of pandas all arguments of DataFrame.drop except for the argument 'labels' will be keyword-only.\n",
      "  X_train, X_test, y_train, y_test = train_test_split(data['train'].drop('target', 1), data['train']['target'],\n"
     ]
    }
   ],
   "source": [
    "X_train, X_test, y_train, y_test = train_test_split(data['train'].drop('target', 1), data['train']['target'],\n",
    "                                                    test_size=0.2, random_state=21045)"
   ]
  },
  {
   "cell_type": "code",
   "execution_count": 144,
   "id": "6a89af16",
   "metadata": {},
   "outputs": [],
   "source": [
    "numerical = ['city_development_index', 'training_hours', 'experience']\n",
    "categorical = ['education_level', 'major_discipline', 'gender', 'company_type','city','company_size'] #agregué company_size"
   ]
  },
  {
   "cell_type": "code",
   "execution_count": 145,
   "id": "e8b82254",
   "metadata": {},
   "outputs": [],
   "source": [
    "\n",
    "standard_scaler = StandardScaler()\n",
    "\n",
    "\n",
    "ohe = OneHotEncoder(handle_unknown=\"ignore\") #para crear mi pipeline\n",
    "# ohe (cambia 1, 0 las categoricas)\n",
    "#data['train'] vs #pd.get_dummies(data['train']['gender'] = ohe\n",
    "\n",
    "\n",
    "#aplicar ohe a categorical:\n",
    "preprocesador = ColumnTransformer(\n",
    "    transformers=[\n",
    "        (\"con\", standard_scaler, numerical), #continuas\n",
    "        (\"cat\", ohe, categorical),\n",
    "    ]\n",
    ")"
   ]
  },
  {
   "cell_type": "code",
   "execution_count": 146,
   "id": "ec74a6da-623f-4ae7-bee9-83b55e27ca13",
   "metadata": {},
   "outputs": [],
   "source": [
    "modelo = LogisticRegression(random_state=21045, penalty='l1', solver='liblinear') #random state para que se replique el resultado, logistic regg para minimizar errores cuadrados (l1)\n",
    "parametros = {\n",
    "              'model__C': uniform(loc=0, scale=4) #controlar regularizacion (penalty) y evitar overfitting, con distr.norm en vez de valores fijos                     \n",
    "             }"
   ]
  },
  {
   "cell_type": "code",
   "execution_count": 147,
   "id": "ffa8b1e1",
   "metadata": {},
   "outputs": [],
   "source": [
    "pipe = Pipeline(steps=[(\"pre\", preprocesador), (\"model\", modelo)]) #pasos: 1.ohe, standard encoding, 2.modelo logistic regressions"
   ]
  },
  {
   "cell_type": "code",
   "execution_count": 148,
   "id": "33b9eb9d",
   "metadata": {},
   "outputs": [],
   "source": [
    "#grid = GridSearchCV(pipe, parametros, n_jobs=2) #dentro de combinacion de hiperparametros, checara model_c y dirá cual tiene la menor pérdida"
   ]
  },
  {
   "cell_type": "code",
   "execution_count": 149,
   "id": "79792821-94fe-415b-a132-3b3d8c391af5",
   "metadata": {},
   "outputs": [],
   "source": [
    "grid = RandomizedSearchCV(pipe, parametros, n_jobs=2) #cambio a randomized searchcv por mi parametro, para revisar dentro de combinacion de hiperparametros, checara model_c y dirá cual tiene la menor pérdida"
   ]
  },
  {
   "cell_type": "code",
   "execution_count": 150,
   "id": "d34620a1",
   "metadata": {},
   "outputs": [
    {
     "name": "stdout",
     "output_type": "stream",
     "text": [
      "Modelo entrenado.\n"
     ]
    }
   ],
   "source": [
    "grid.fit(X_train, y_train) #le paso toda la data porque defini en el procesador las que estaba ocupando con,cat\n",
    "print('Modelo entrenado.')"
   ]
  },
  {
   "cell_type": "code",
   "execution_count": 151,
   "id": "bc89a3c5",
   "metadata": {},
   "outputs": [
    {
     "data": {
      "text/plain": [
       "{'model__C': 0.9995192380222391}"
      ]
     },
     "execution_count": 151,
     "metadata": {},
     "output_type": "execute_result"
    }
   ],
   "source": [
    "grid.best_params_"
   ]
  },
  {
   "cell_type": "code",
   "execution_count": 152,
   "id": "2ba2cb3b",
   "metadata": {},
   "outputs": [],
   "source": [
    "y_pred = grid.best_estimator_.predict(X_train)\n",
    "y_pred = pd.Series(y_pred, name='Pred')\n",
    "\n",
    "#compare con df_confusion\n",
    "\n",
    "y_true = np.array(y_train)\n",
    "y_true = pd.Series(y_true, name='True')"
   ]
  },
  {
   "cell_type": "code",
   "execution_count": 153,
   "id": "1d64f7d8-1bf6-4eeb-bd0e-7f5dc73edd86",
   "metadata": {},
   "outputs": [
    {
     "data": {
      "image/png": "[encoded data removed]",
      "text/plain": [
       "<Figure size 432x288 with 2 Axes>"
      ]
     },
     "metadata": {
      "needs_background": "light"
     },
     "output_type": "display_data"
    }
   ],
   "source": [
    "cm = confusion_matrix(y_true, y_pred, labels=grid.classes_)\n",
    "disp = ConfusionMatrixDisplay(confusion_matrix=cm,\n",
    "                              display_labels=grid.classes_)\n",
    "disp.plot()\n",
    "plt.show()\n",
    "\n",
    "#true positive: dije que busca y si busca (1118) ->prediccion\n",
    "\n",
    "#true negative: dije que no busca y no busca (8443)\n",
    "#false negative: yo dije no esta buscando pero si esta buscando (1989)\n",
    "#false positive: yo dije que si buscaba pero no estaba buscando (710)\n",
    "\n",
    "#SENSITIVITY = TP/(TP+FN) = 35.9% efectividad para predecir los que si estaban buscando trabajo\n",
    "#PRECISION = TP/(TP+FP) = 13.4% \n",
    "\n",
    "#Curva de ROC?"
   ]
  },
  {
   "cell_type": "code",
   "execution_count": 154,
   "id": "62f74579",
   "metadata": {},
   "outputs": [
    {
     "data": {
      "text/plain": [
       "0.7994528237921926"
      ]
     },
     "execution_count": 154,
     "metadata": {},
     "output_type": "execute_result"
    }
   ],
   "source": [
    "y_prob = grid.best_estimator_.predict_proba(X_train)\n",
    "roc_auc_score(y_true, y_prob[:, 1]) #mejoró con city"
   ]
  },
  {
   "cell_type": "code",
   "execution_count": 155,
   "id": "34dc6c84",
   "metadata": {},
   "outputs": [
    {
     "data": {
      "text/plain": [
       "0.6471342363456754"
      ]
     },
     "execution_count": 155,
     "metadata": {},
     "output_type": "execute_result"
    }
   ],
   "source": [
    "roc_auc_score(y_true, y_pred) #mejoró con city"
   ]
  },
  {
   "cell_type": "code",
   "execution_count": 156,
   "id": "da695a10",
   "metadata": {},
   "outputs": [],
   "source": [
    "y_pred = grid.best_estimator_.predict(X_test)\n",
    "y_pred = pd.Series(y_pred, name='Pred') \n",
    "\n",
    "#compare con df_confusion\n",
    "\n",
    "y_true = np.array(y_test)\n",
    "y_true = pd.Series(y_true, name='True')"
   ]
  },
  {
   "cell_type": "code",
   "execution_count": 157,
   "id": "689b7e89-e5a4-49be-82e5-ffa84db8d91f",
   "metadata": {},
   "outputs": [
    {
     "data": {
      "text/html": [
       "<div>\n",
       "<style scoped>\n",
       "    .dataframe tbody tr th:only-of-type {\n",
       "        vertical-align: middle;\n",
       "    }\n",
       "\n",
       "    .dataframe tbody tr th {\n",
       "        vertical-align: top;\n",
       "    }\n",
       "\n",
       "    .dataframe thead th {\n",
       "        text-align: right;\n",
       "    }\n",
       "</style>\n",
       "<table border=\"1\" class=\"dataframe\">\n",
       "  <thead>\n",
       "    <tr style=\"text-align: right;\">\n",
       "      <th>Pred</th>\n",
       "      <th>0.0</th>\n",
       "      <th>1.0</th>\n",
       "    </tr>\n",
       "    <tr>\n",
       "      <th>True</th>\n",
       "      <th></th>\n",
       "      <th></th>\n",
       "    </tr>\n",
       "  </thead>\n",
       "  <tbody>\n",
       "    <tr>\n",
       "      <th>0.0</th>\n",
       "      <td>2181</td>\n",
       "      <td>168</td>\n",
       "    </tr>\n",
       "    <tr>\n",
       "      <th>1.0</th>\n",
       "      <td>446</td>\n",
       "      <td>271</td>\n",
       "    </tr>\n",
       "  </tbody>\n",
       "</table>\n",
       "</div>"
      ],
      "text/plain": [
       "Pred   0.0  1.0\n",
       "True           \n",
       "0.0   2181  168\n",
       "1.0    446  271"
      ]
     },
     "execution_count": 157,
     "metadata": {},
     "output_type": "execute_result"
    }
   ],
   "source": [
    "df_confusion = pd.crosstab(y_true, y_pred)\n",
    "df_confusion"
   ]
  },
  {
   "cell_type": "code",
   "execution_count": 158,
   "id": "094d1381-72f7-4b0f-98cb-e4a334b6f243",
   "metadata": {},
   "outputs": [
    {
     "data": {
      "image/png": "[encoded data removed]",
      "text/plain": [
       "<Figure size 432x288 with 2 Axes>"
      ]
     },
     "metadata": {
      "needs_background": "light"
     },
     "output_type": "display_data"
    }
   ],
   "source": [
    "cm = confusion_matrix(y_true, y_pred, labels=grid.classes_)\n",
    "disp = ConfusionMatrixDisplay(confusion_matrix=cm,\n",
    "                              display_labels=grid.classes_)\n",
    "disp.plot()\n",
    "plt.show()\n",
    "\n",
    "#true positive: dije que busca y si busca (258)\n",
    "#true negative: dije que no busca y no busca (2177)\n",
    "#false negative: yo dije no esta buscando pero si esta buscando (459)\n",
    "#false positive: yo dije que si buscaba pero no estaba buscando (172)\n",
    "\n",
    "#SENSITIVITY = TP/(TP+FN) = 35.9% efectividad para predecir los que si estaban buscando trabajo\n",
    "#PRECISION = TP/(TP+FP) = 6% \n",
    "\n",
    "#Curva de ROC?"
   ]
  },
  {
   "cell_type": "code",
   "execution_count": 159,
   "id": "a62f0fbd",
   "metadata": {},
   "outputs": [
    {
     "data": {
      "text/plain": [
       "0.8143846486798442"
      ]
     },
     "execution_count": 159,
     "metadata": {},
     "output_type": "execute_result"
    }
   ],
   "source": [
    "y_prob = grid.best_estimator_.predict_proba(X_test)\n",
    "roc_auc_score(y_true, y_prob[:, 1]) #submit #mejoró con city"
   ]
  },
  {
   "cell_type": "code",
   "execution_count": 160,
   "id": "12c19119",
   "metadata": {},
   "outputs": [
    {
     "data": {
      "text/plain": [
       "0.6532219710693236"
      ]
     },
     "execution_count": 160,
     "metadata": {},
     "output_type": "execute_result"
    }
   ],
   "source": [
    "roc_auc_score(y_true, y_pred) #mejoró con city"
   ]
  },
  {
   "cell_type": "markdown",
   "id": "41a1872d",
   "metadata": {},
   "source": [
    "## Submission"
   ]
  },
  {
   "cell_type": "code",
   "execution_count": 162,
   "id": "68dd2220",
   "metadata": {},
   "outputs": [],
   "source": [
    "submission_csv = data['test'].copy()\n",
    "\n",
    "# submission_csv['target'] = grid.best_estimator_.predict(submission_csv)\n",
    "submission_csv['target'] = grid.best_estimator_.predict_proba(submission_csv)[:, 1]\n",
    "\n",
    "submission_csv = submission_csv[['enrollee_id', 'target']]\n",
    "submission_csv = submission_csv.set_index('enrollee_id')"
   ]
  },
  {
   "cell_type": "code",
   "execution_count": 163,
   "id": "d23c9875",
   "metadata": {},
   "outputs": [],
   "source": [
    "submission_csv.to_csv('submission4_1marzo.csv')"
   ]
  }
 ],
 "metadata": {
  "kernelspec": {
   "display_name": "Python 3 (ipykernel)",
   "language": "python",
   "name": "python3"
  },
  "language_info": {
   "codemirror_mode": {
    "name": "ipython",
    "version": 3
   },
   "file_extension": ".py",
   "mimetype": "text/x-python",
   "name": "python",
   "nbconvert_exporter": "python",
   "pygments_lexer": "ipython3",
   "version": "3.9.12"
  }
 },
 "nbformat": 4,
 "nbformat_minor": 5
}
