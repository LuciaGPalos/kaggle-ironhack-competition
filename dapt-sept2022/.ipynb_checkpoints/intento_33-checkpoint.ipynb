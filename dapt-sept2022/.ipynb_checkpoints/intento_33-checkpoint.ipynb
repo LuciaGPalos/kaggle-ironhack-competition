{
 "cells": [
  {
   "cell_type": "code",
   "execution_count": 1,
   "id": "bc278158",
   "metadata": {},
   "outputs": [],
   "source": [
    "import numpy as np\n",
    "import pandas as pd\n",
    "import matplotlib.pyplot as plt\n",
    "import seaborn as sns\n",
    "\n",
    "from sklearn.model_selection import train_test_split\n",
    "from sklearn.compose import ColumnTransformer\n",
    "from sklearn.preprocessing import OneHotEncoder\n",
    "from sklearn.preprocessing import StandardScaler\n",
    "from sklearn.pipeline import Pipeline\n",
    "from sklearn.model_selection import GridSearchCV\n",
    "from sklearn.linear_model import LogisticRegression"
   ]
  },
  {
   "cell_type": "code",
   "execution_count": 2,
   "id": "ac1f86d3",
   "metadata": {},
   "outputs": [],
   "source": [
    "from sklearn.metrics import roc_auc_score"
   ]
  },
  {
   "cell_type": "code",
   "execution_count": 3,
   "id": "355d5459-6fbf-4f60-89fa-9ef7b2da66a0",
   "metadata": {},
   "outputs": [],
   "source": [
    "#crear diccionario para poder llamar llaves y hacer más fácil cuando duplique el modelo y cambie de train a test"
   ]
  },
  {
   "cell_type": "code",
   "execution_count": 4,
   "id": "00f3b226",
   "metadata": {},
   "outputs": [],
   "source": [
    "train = pd.read_csv('z_train.csv')\n",
    "test = pd.read_csv('z_test.csv')\n",
    "data = {'train' : train, 'test' : test}"
   ]
  },
  {
   "cell_type": "markdown",
   "id": "31f9630a",
   "metadata": {},
   "source": [
    "## Missing Data"
   ]
  },
  {
   "cell_type": "markdown",
   "id": "bdc0976c-ada0-4a2b-8648-cefcf5f8a392",
   "metadata": {},
   "source": [
    "### Train"
   ]
  },
  {
   "cell_type": "code",
   "execution_count": 5,
   "id": "6d01ae1f-26ab-404c-a9b4-3aa72a0d442d",
   "metadata": {},
   "outputs": [
    {
     "data": {
      "text/html": [
       "<div>\n",
       "<style scoped>\n",
       "    .dataframe tbody tr th:only-of-type {\n",
       "        vertical-align: middle;\n",
       "    }\n",
       "\n",
       "    .dataframe tbody tr th {\n",
       "        vertical-align: top;\n",
       "    }\n",
       "\n",
       "    .dataframe thead th {\n",
       "        text-align: right;\n",
       "    }\n",
       "</style>\n",
       "<table border=\"1\" class=\"dataframe\">\n",
       "  <thead>\n",
       "    <tr style=\"text-align: right;\">\n",
       "      <th></th>\n",
       "      <th>enrollee_id</th>\n",
       "      <th>city</th>\n",
       "      <th>city_development_index</th>\n",
       "      <th>gender</th>\n",
       "      <th>relevent_experience</th>\n",
       "      <th>enrolled_university</th>\n",
       "      <th>education_level</th>\n",
       "      <th>major_discipline</th>\n",
       "      <th>experience</th>\n",
       "      <th>company_size</th>\n",
       "      <th>company_type</th>\n",
       "      <th>last_new_job</th>\n",
       "      <th>training_hours</th>\n",
       "      <th>target</th>\n",
       "    </tr>\n",
       "  </thead>\n",
       "  <tbody>\n",
       "    <tr>\n",
       "      <th>0</th>\n",
       "      <td>8949</td>\n",
       "      <td>city_103</td>\n",
       "      <td>0.920</td>\n",
       "      <td>Male</td>\n",
       "      <td>Has relevent experience</td>\n",
       "      <td>no_enrollment</td>\n",
       "      <td>Graduate</td>\n",
       "      <td>STEM</td>\n",
       "      <td>&gt;20</td>\n",
       "      <td>NaN</td>\n",
       "      <td>NaN</td>\n",
       "      <td>1</td>\n",
       "      <td>36</td>\n",
       "      <td>1.0</td>\n",
       "    </tr>\n",
       "    <tr>\n",
       "      <th>1</th>\n",
       "      <td>29725</td>\n",
       "      <td>city_40</td>\n",
       "      <td>0.776</td>\n",
       "      <td>Male</td>\n",
       "      <td>No relevent experience</td>\n",
       "      <td>no_enrollment</td>\n",
       "      <td>Graduate</td>\n",
       "      <td>STEM</td>\n",
       "      <td>15</td>\n",
       "      <td>50-99</td>\n",
       "      <td>Pvt Ltd</td>\n",
       "      <td>&gt;4</td>\n",
       "      <td>47</td>\n",
       "      <td>0.0</td>\n",
       "    </tr>\n",
       "    <tr>\n",
       "      <th>2</th>\n",
       "      <td>11561</td>\n",
       "      <td>city_21</td>\n",
       "      <td>0.624</td>\n",
       "      <td>NaN</td>\n",
       "      <td>No relevent experience</td>\n",
       "      <td>Full time course</td>\n",
       "      <td>Graduate</td>\n",
       "      <td>STEM</td>\n",
       "      <td>5</td>\n",
       "      <td>NaN</td>\n",
       "      <td>NaN</td>\n",
       "      <td>never</td>\n",
       "      <td>83</td>\n",
       "      <td>0.0</td>\n",
       "    </tr>\n",
       "    <tr>\n",
       "      <th>3</th>\n",
       "      <td>33241</td>\n",
       "      <td>city_115</td>\n",
       "      <td>0.789</td>\n",
       "      <td>NaN</td>\n",
       "      <td>No relevent experience</td>\n",
       "      <td>NaN</td>\n",
       "      <td>Graduate</td>\n",
       "      <td>Business Degree</td>\n",
       "      <td>&lt;1</td>\n",
       "      <td>NaN</td>\n",
       "      <td>Pvt Ltd</td>\n",
       "      <td>never</td>\n",
       "      <td>52</td>\n",
       "      <td>1.0</td>\n",
       "    </tr>\n",
       "    <tr>\n",
       "      <th>4</th>\n",
       "      <td>21651</td>\n",
       "      <td>city_176</td>\n",
       "      <td>0.764</td>\n",
       "      <td>NaN</td>\n",
       "      <td>Has relevent experience</td>\n",
       "      <td>Part time course</td>\n",
       "      <td>Graduate</td>\n",
       "      <td>STEM</td>\n",
       "      <td>11</td>\n",
       "      <td>NaN</td>\n",
       "      <td>NaN</td>\n",
       "      <td>1</td>\n",
       "      <td>24</td>\n",
       "      <td>1.0</td>\n",
       "    </tr>\n",
       "  </tbody>\n",
       "</table>\n",
       "</div>"
      ],
      "text/plain": [
       "   enrollee_id      city  city_development_index gender  \\\n",
       "0         8949  city_103                   0.920   Male   \n",
       "1        29725   city_40                   0.776   Male   \n",
       "2        11561   city_21                   0.624    NaN   \n",
       "3        33241  city_115                   0.789    NaN   \n",
       "4        21651  city_176                   0.764    NaN   \n",
       "\n",
       "       relevent_experience enrolled_university education_level  \\\n",
       "0  Has relevent experience       no_enrollment        Graduate   \n",
       "1   No relevent experience       no_enrollment        Graduate   \n",
       "2   No relevent experience    Full time course        Graduate   \n",
       "3   No relevent experience                 NaN        Graduate   \n",
       "4  Has relevent experience    Part time course        Graduate   \n",
       "\n",
       "  major_discipline experience company_size company_type last_new_job  \\\n",
       "0             STEM        >20          NaN          NaN            1   \n",
       "1             STEM         15        50-99      Pvt Ltd           >4   \n",
       "2             STEM          5          NaN          NaN        never   \n",
       "3  Business Degree         <1          NaN      Pvt Ltd        never   \n",
       "4             STEM         11          NaN          NaN            1   \n",
       "\n",
       "   training_hours  target  \n",
       "0              36     1.0  \n",
       "1              47     0.0  \n",
       "2              83     0.0  \n",
       "3              52     1.0  \n",
       "4              24     1.0  "
      ]
     },
     "execution_count": 5,
     "metadata": {},
     "output_type": "execute_result"
    }
   ],
   "source": [
    "key = 'train'\n",
    "data[key].head()"
   ]
  },
  {
   "cell_type": "code",
   "execution_count": 6,
   "id": "a2959700-cfb7-40d2-a322-a2175b614244",
   "metadata": {},
   "outputs": [
    {
     "data": {
      "text/plain": [
       "(15326, 14)"
      ]
     },
     "execution_count": 6,
     "metadata": {},
     "output_type": "execute_result"
    }
   ],
   "source": [
    "data[key].shape"
   ]
  },
  {
   "cell_type": "code",
   "execution_count": 7,
   "id": "72b49168-59e6-4690-87c5-048c1c97535b",
   "metadata": {},
   "outputs": [
    {
     "name": "stdout",
     "output_type": "stream",
     "text": [
      "<class 'pandas.core.frame.DataFrame'>\n",
      "RangeIndex: 15326 entries, 0 to 15325\n",
      "Data columns (total 14 columns):\n",
      " #   Column                  Non-Null Count  Dtype  \n",
      "---  ------                  --------------  -----  \n",
      " 0   enrollee_id             15326 non-null  int64  \n",
      " 1   city                    15326 non-null  object \n",
      " 2   city_development_index  15326 non-null  float64\n",
      " 3   gender                  11725 non-null  object \n",
      " 4   relevent_experience     15326 non-null  object \n",
      " 5   enrolled_university     15024 non-null  object \n",
      " 6   education_level         14957 non-null  object \n",
      " 7   major_discipline        13089 non-null  object \n",
      " 8   experience              15276 non-null  object \n",
      " 9   company_size            10592 non-null  object \n",
      " 10  company_type            10435 non-null  object \n",
      " 11  last_new_job            14987 non-null  object \n",
      " 12  training_hours          15326 non-null  int64  \n",
      " 13  target                  15326 non-null  float64\n",
      "dtypes: float64(2), int64(2), object(10)\n",
      "memory usage: 1.6+ MB\n"
     ]
    }
   ],
   "source": [
    "data[key].info() #city_development_index y training_hours son las únicas variables continuas"
   ]
  },
  {
   "cell_type": "code",
   "execution_count": 8,
   "id": "e86a4817",
   "metadata": {},
   "outputs": [
    {
     "data": {
      "text/plain": [
       "enrollee_id               0.000000\n",
       "city                      0.000000\n",
       "city_development_index    0.000000\n",
       "gender                    0.234960\n",
       "relevent_experience       0.000000\n",
       "enrolled_university       0.019705\n",
       "education_level           0.024077\n",
       "major_discipline          0.145961\n",
       "experience                0.003262\n",
       "company_size              0.308887\n",
       "company_type              0.319131\n",
       "last_new_job              0.022119\n",
       "training_hours            0.000000\n",
       "target                    0.000000\n",
       "dtype: float64"
      ]
     },
     "execution_count": 8,
     "metadata": {},
     "output_type": "execute_result"
    }
   ],
   "source": [
    "key = 'train'\n",
    "data[key].isna().sum() / len(data[key])"
   ]
  },
  {
   "cell_type": "markdown",
   "id": "26f410c0-0c8f-492a-9b68-4b431f0703f2",
   "metadata": {},
   "source": [
    "### Test"
   ]
  },
  {
   "cell_type": "code",
   "execution_count": 9,
   "id": "cf068605-d574-43dd-98ec-f76860c925f2",
   "metadata": {},
   "outputs": [
    {
     "data": {
      "text/html": [
       "<div>\n",
       "<style scoped>\n",
       "    .dataframe tbody tr th:only-of-type {\n",
       "        vertical-align: middle;\n",
       "    }\n",
       "\n",
       "    .dataframe tbody tr th {\n",
       "        vertical-align: top;\n",
       "    }\n",
       "\n",
       "    .dataframe thead th {\n",
       "        text-align: right;\n",
       "    }\n",
       "</style>\n",
       "<table border=\"1\" class=\"dataframe\">\n",
       "  <thead>\n",
       "    <tr style=\"text-align: right;\">\n",
       "      <th></th>\n",
       "      <th>enrollee_id</th>\n",
       "      <th>city</th>\n",
       "      <th>city_development_index</th>\n",
       "      <th>gender</th>\n",
       "      <th>relevent_experience</th>\n",
       "      <th>enrolled_university</th>\n",
       "      <th>education_level</th>\n",
       "      <th>major_discipline</th>\n",
       "      <th>experience</th>\n",
       "      <th>company_size</th>\n",
       "      <th>company_type</th>\n",
       "      <th>last_new_job</th>\n",
       "      <th>training_hours</th>\n",
       "    </tr>\n",
       "  </thead>\n",
       "  <tbody>\n",
       "    <tr>\n",
       "      <th>0</th>\n",
       "      <td>23603</td>\n",
       "      <td>city_160</td>\n",
       "      <td>0.920</td>\n",
       "      <td>Male</td>\n",
       "      <td>No relevent experience</td>\n",
       "      <td>Full time course</td>\n",
       "      <td>Graduate</td>\n",
       "      <td>STEM</td>\n",
       "      <td>5</td>\n",
       "      <td>NaN</td>\n",
       "      <td>NaN</td>\n",
       "      <td>1</td>\n",
       "      <td>78</td>\n",
       "    </tr>\n",
       "    <tr>\n",
       "      <th>1</th>\n",
       "      <td>22499</td>\n",
       "      <td>city_45</td>\n",
       "      <td>0.890</td>\n",
       "      <td>NaN</td>\n",
       "      <td>Has relevent experience</td>\n",
       "      <td>Full time course</td>\n",
       "      <td>High School</td>\n",
       "      <td>NaN</td>\n",
       "      <td>6</td>\n",
       "      <td>50-99</td>\n",
       "      <td>Pvt Ltd</td>\n",
       "      <td>1</td>\n",
       "      <td>36</td>\n",
       "    </tr>\n",
       "    <tr>\n",
       "      <th>2</th>\n",
       "      <td>10465</td>\n",
       "      <td>city_149</td>\n",
       "      <td>0.689</td>\n",
       "      <td>Male</td>\n",
       "      <td>No relevent experience</td>\n",
       "      <td>no_enrollment</td>\n",
       "      <td>Graduate</td>\n",
       "      <td>STEM</td>\n",
       "      <td>5</td>\n",
       "      <td>NaN</td>\n",
       "      <td>NaN</td>\n",
       "      <td>never</td>\n",
       "      <td>34</td>\n",
       "    </tr>\n",
       "    <tr>\n",
       "      <th>3</th>\n",
       "      <td>8293</td>\n",
       "      <td>city_67</td>\n",
       "      <td>0.855</td>\n",
       "      <td>Female</td>\n",
       "      <td>Has relevent experience</td>\n",
       "      <td>no_enrollment</td>\n",
       "      <td>Masters</td>\n",
       "      <td>STEM</td>\n",
       "      <td>9</td>\n",
       "      <td>1000-4999</td>\n",
       "      <td>Pvt Ltd</td>\n",
       "      <td>1</td>\n",
       "      <td>149</td>\n",
       "    </tr>\n",
       "    <tr>\n",
       "      <th>4</th>\n",
       "      <td>4246</td>\n",
       "      <td>city_103</td>\n",
       "      <td>0.920</td>\n",
       "      <td>Male</td>\n",
       "      <td>Has relevent experience</td>\n",
       "      <td>no_enrollment</td>\n",
       "      <td>Graduate</td>\n",
       "      <td>STEM</td>\n",
       "      <td>16</td>\n",
       "      <td>50-99</td>\n",
       "      <td>Funded Startup</td>\n",
       "      <td>2</td>\n",
       "      <td>7</td>\n",
       "    </tr>\n",
       "  </tbody>\n",
       "</table>\n",
       "</div>"
      ],
      "text/plain": [
       "   enrollee_id      city  city_development_index  gender  \\\n",
       "0        23603  city_160                   0.920    Male   \n",
       "1        22499   city_45                   0.890     NaN   \n",
       "2        10465  city_149                   0.689    Male   \n",
       "3         8293   city_67                   0.855  Female   \n",
       "4         4246  city_103                   0.920    Male   \n",
       "\n",
       "       relevent_experience enrolled_university education_level  \\\n",
       "0   No relevent experience    Full time course        Graduate   \n",
       "1  Has relevent experience    Full time course     High School   \n",
       "2   No relevent experience       no_enrollment        Graduate   \n",
       "3  Has relevent experience       no_enrollment         Masters   \n",
       "4  Has relevent experience       no_enrollment        Graduate   \n",
       "\n",
       "  major_discipline experience company_size    company_type last_new_job  \\\n",
       "0             STEM          5          NaN             NaN            1   \n",
       "1              NaN          6        50-99         Pvt Ltd            1   \n",
       "2             STEM          5          NaN             NaN        never   \n",
       "3             STEM          9    1000-4999         Pvt Ltd            1   \n",
       "4             STEM         16        50-99  Funded Startup            2   \n",
       "\n",
       "   training_hours  \n",
       "0              78  \n",
       "1              36  \n",
       "2              34  \n",
       "3             149  \n",
       "4               7  "
      ]
     },
     "execution_count": 9,
     "metadata": {},
     "output_type": "execute_result"
    }
   ],
   "source": [
    "key = 'test'\n",
    "data[key].head()"
   ]
  },
  {
   "cell_type": "code",
   "execution_count": 10,
   "id": "bc58aef9-90f8-4129-bd62-f42c580842f4",
   "metadata": {},
   "outputs": [
    {
     "data": {
      "text/plain": [
       "(3832, 13)"
      ]
     },
     "execution_count": 10,
     "metadata": {},
     "output_type": "execute_result"
    }
   ],
   "source": [
    "data[key].shape"
   ]
  },
  {
   "cell_type": "code",
   "execution_count": 11,
   "id": "72093075-3bc4-402c-bd46-9c13c76df779",
   "metadata": {},
   "outputs": [
    {
     "name": "stdout",
     "output_type": "stream",
     "text": [
      "<class 'pandas.core.frame.DataFrame'>\n",
      "RangeIndex: 3832 entries, 0 to 3831\n",
      "Data columns (total 13 columns):\n",
      " #   Column                  Non-Null Count  Dtype  \n",
      "---  ------                  --------------  -----  \n",
      " 0   enrollee_id             3832 non-null   int64  \n",
      " 1   city                    3832 non-null   object \n",
      " 2   city_development_index  3832 non-null   float64\n",
      " 3   gender                  2925 non-null   object \n",
      " 4   relevent_experience     3832 non-null   object \n",
      " 5   enrolled_university     3748 non-null   object \n",
      " 6   education_level         3741 non-null   object \n",
      " 7   major_discipline        3256 non-null   object \n",
      " 8   experience              3817 non-null   object \n",
      " 9   company_size            2628 non-null   object \n",
      " 10  company_type            2583 non-null   object \n",
      " 11  last_new_job            3748 non-null   object \n",
      " 12  training_hours          3832 non-null   int64  \n",
      "dtypes: float64(1), int64(2), object(10)\n",
      "memory usage: 389.3+ KB\n"
     ]
    }
   ],
   "source": [
    "data[key].info() #city_development_index y training_hours son las únicas variables continuas"
   ]
  },
  {
   "cell_type": "code",
   "execution_count": 12,
   "id": "ad6de757",
   "metadata": {},
   "outputs": [
    {
     "data": {
      "text/plain": [
       "enrollee_id               0.000000\n",
       "city                      0.000000\n",
       "city_development_index    0.000000\n",
       "gender                    0.236691\n",
       "relevent_experience       0.000000\n",
       "enrolled_university       0.021921\n",
       "education_level           0.023747\n",
       "major_discipline          0.150313\n",
       "experience                0.003914\n",
       "company_size              0.314196\n",
       "company_type              0.325939\n",
       "last_new_job              0.021921\n",
       "training_hours            0.000000\n",
       "dtype: float64"
      ]
     },
     "execution_count": 12,
     "metadata": {},
     "output_type": "execute_result"
    }
   ],
   "source": [
    "key = 'test'\n",
    "data[key].isna().sum() / len(data[key])"
   ]
  },
  {
   "cell_type": "code",
   "execution_count": 13,
   "id": "c21b75dc",
   "metadata": {},
   "outputs": [],
   "source": [
    "data['train'] = data['train'].fillna('NULL')\n",
    "data['test'] = data['test'].fillna('NULL')"
   ]
  },
  {
   "cell_type": "code",
   "execution_count": 14,
   "id": "7bb545c4",
   "metadata": {},
   "outputs": [],
   "source": [
    "n = {'train' : len(data['train']), 'test' : len(data['test'])}"
   ]
  },
  {
   "cell_type": "code",
   "execution_count": 15,
   "id": "947b27d3",
   "metadata": {},
   "outputs": [],
   "source": [
    "unique_df = {}\n",
    "\n",
    "for key in data:\n",
    "    unique_dict = {key_:\n",
    "                       [\n",
    "                        data[key][key_].nunique(),\n",
    "                        data[key][key_].nunique() / n[key]\n",
    "                       ]\n",
    "                   for key_ in data[key].columns}\n",
    "\n",
    "    aux = pd.DataFrame(unique_dict).transpose()\n",
    "    aux.columns = ['n_unique', '%_unique']\n",
    "    aux['n_unique'] = aux['n_unique'].astype(int)\n",
    "    unique_df[key] = aux"
   ]
  },
  {
   "cell_type": "code",
   "execution_count": 16,
   "id": "ea64cc26",
   "metadata": {},
   "outputs": [
    {
     "data": {
      "text/html": [
       "<div>\n",
       "<style scoped>\n",
       "    .dataframe tbody tr th:only-of-type {\n",
       "        vertical-align: middle;\n",
       "    }\n",
       "\n",
       "    .dataframe tbody tr th {\n",
       "        vertical-align: top;\n",
       "    }\n",
       "\n",
       "    .dataframe thead th {\n",
       "        text-align: right;\n",
       "    }\n",
       "</style>\n",
       "<table border=\"1\" class=\"dataframe\">\n",
       "  <thead>\n",
       "    <tr style=\"text-align: right;\">\n",
       "      <th></th>\n",
       "      <th>n_unique</th>\n",
       "      <th>%_unique</th>\n",
       "    </tr>\n",
       "  </thead>\n",
       "  <tbody>\n",
       "    <tr>\n",
       "      <th>enrollee_id</th>\n",
       "      <td>15326</td>\n",
       "      <td>1.000000</td>\n",
       "    </tr>\n",
       "    <tr>\n",
       "      <th>city</th>\n",
       "      <td>123</td>\n",
       "      <td>0.008026</td>\n",
       "    </tr>\n",
       "    <tr>\n",
       "      <th>city_development_index</th>\n",
       "      <td>93</td>\n",
       "      <td>0.006068</td>\n",
       "    </tr>\n",
       "    <tr>\n",
       "      <th>gender</th>\n",
       "      <td>4</td>\n",
       "      <td>0.000261</td>\n",
       "    </tr>\n",
       "    <tr>\n",
       "      <th>relevent_experience</th>\n",
       "      <td>2</td>\n",
       "      <td>0.000130</td>\n",
       "    </tr>\n",
       "    <tr>\n",
       "      <th>enrolled_university</th>\n",
       "      <td>4</td>\n",
       "      <td>0.000261</td>\n",
       "    </tr>\n",
       "    <tr>\n",
       "      <th>education_level</th>\n",
       "      <td>6</td>\n",
       "      <td>0.000391</td>\n",
       "    </tr>\n",
       "    <tr>\n",
       "      <th>major_discipline</th>\n",
       "      <td>7</td>\n",
       "      <td>0.000457</td>\n",
       "    </tr>\n",
       "    <tr>\n",
       "      <th>experience</th>\n",
       "      <td>23</td>\n",
       "      <td>0.001501</td>\n",
       "    </tr>\n",
       "    <tr>\n",
       "      <th>company_size</th>\n",
       "      <td>9</td>\n",
       "      <td>0.000587</td>\n",
       "    </tr>\n",
       "    <tr>\n",
       "      <th>company_type</th>\n",
       "      <td>7</td>\n",
       "      <td>0.000457</td>\n",
       "    </tr>\n",
       "    <tr>\n",
       "      <th>last_new_job</th>\n",
       "      <td>7</td>\n",
       "      <td>0.000457</td>\n",
       "    </tr>\n",
       "    <tr>\n",
       "      <th>training_hours</th>\n",
       "      <td>241</td>\n",
       "      <td>0.015725</td>\n",
       "    </tr>\n",
       "    <tr>\n",
       "      <th>target</th>\n",
       "      <td>2</td>\n",
       "      <td>0.000130</td>\n",
       "    </tr>\n",
       "  </tbody>\n",
       "</table>\n",
       "</div>"
      ],
      "text/plain": [
       "                        n_unique  %_unique\n",
       "enrollee_id                15326  1.000000\n",
       "city                         123  0.008026\n",
       "city_development_index        93  0.006068\n",
       "gender                         4  0.000261\n",
       "relevent_experience            2  0.000130\n",
       "enrolled_university            4  0.000261\n",
       "education_level                6  0.000391\n",
       "major_discipline               7  0.000457\n",
       "experience                    23  0.001501\n",
       "company_size                   9  0.000587\n",
       "company_type                   7  0.000457\n",
       "last_new_job                   7  0.000457\n",
       "training_hours               241  0.015725\n",
       "target                         2  0.000130"
      ]
     },
     "execution_count": 16,
     "metadata": {},
     "output_type": "execute_result"
    }
   ],
   "source": [
    "key = 'train'\n",
    "unique_df[key]"
   ]
  },
  {
   "cell_type": "code",
   "execution_count": 17,
   "id": "0b2db341",
   "metadata": {},
   "outputs": [
    {
     "data": {
      "text/html": [
       "<div>\n",
       "<style scoped>\n",
       "    .dataframe tbody tr th:only-of-type {\n",
       "        vertical-align: middle;\n",
       "    }\n",
       "\n",
       "    .dataframe tbody tr th {\n",
       "        vertical-align: top;\n",
       "    }\n",
       "\n",
       "    .dataframe thead th {\n",
       "        text-align: right;\n",
       "    }\n",
       "</style>\n",
       "<table border=\"1\" class=\"dataframe\">\n",
       "  <thead>\n",
       "    <tr style=\"text-align: right;\">\n",
       "      <th></th>\n",
       "      <th>n_unique</th>\n",
       "      <th>%_unique</th>\n",
       "    </tr>\n",
       "  </thead>\n",
       "  <tbody>\n",
       "    <tr>\n",
       "      <th>enrollee_id</th>\n",
       "      <td>3832</td>\n",
       "      <td>1.000000</td>\n",
       "    </tr>\n",
       "    <tr>\n",
       "      <th>city</th>\n",
       "      <td>112</td>\n",
       "      <td>0.029228</td>\n",
       "    </tr>\n",
       "    <tr>\n",
       "      <th>city_development_index</th>\n",
       "      <td>83</td>\n",
       "      <td>0.021660</td>\n",
       "    </tr>\n",
       "    <tr>\n",
       "      <th>gender</th>\n",
       "      <td>4</td>\n",
       "      <td>0.001044</td>\n",
       "    </tr>\n",
       "    <tr>\n",
       "      <th>relevent_experience</th>\n",
       "      <td>2</td>\n",
       "      <td>0.000522</td>\n",
       "    </tr>\n",
       "    <tr>\n",
       "      <th>enrolled_university</th>\n",
       "      <td>4</td>\n",
       "      <td>0.001044</td>\n",
       "    </tr>\n",
       "    <tr>\n",
       "      <th>education_level</th>\n",
       "      <td>6</td>\n",
       "      <td>0.001566</td>\n",
       "    </tr>\n",
       "    <tr>\n",
       "      <th>major_discipline</th>\n",
       "      <td>7</td>\n",
       "      <td>0.001827</td>\n",
       "    </tr>\n",
       "    <tr>\n",
       "      <th>experience</th>\n",
       "      <td>23</td>\n",
       "      <td>0.006002</td>\n",
       "    </tr>\n",
       "    <tr>\n",
       "      <th>company_size</th>\n",
       "      <td>9</td>\n",
       "      <td>0.002349</td>\n",
       "    </tr>\n",
       "    <tr>\n",
       "      <th>company_type</th>\n",
       "      <td>7</td>\n",
       "      <td>0.001827</td>\n",
       "    </tr>\n",
       "    <tr>\n",
       "      <th>last_new_job</th>\n",
       "      <td>7</td>\n",
       "      <td>0.001827</td>\n",
       "    </tr>\n",
       "    <tr>\n",
       "      <th>training_hours</th>\n",
       "      <td>238</td>\n",
       "      <td>0.062109</td>\n",
       "    </tr>\n",
       "  </tbody>\n",
       "</table>\n",
       "</div>"
      ],
      "text/plain": [
       "                        n_unique  %_unique\n",
       "enrollee_id                 3832  1.000000\n",
       "city                         112  0.029228\n",
       "city_development_index        83  0.021660\n",
       "gender                         4  0.001044\n",
       "relevent_experience            2  0.000522\n",
       "enrolled_university            4  0.001044\n",
       "education_level                6  0.001566\n",
       "major_discipline               7  0.001827\n",
       "experience                    23  0.006002\n",
       "company_size                   9  0.002349\n",
       "company_type                   7  0.001827\n",
       "last_new_job                   7  0.001827\n",
       "training_hours               238  0.062109"
      ]
     },
     "execution_count": 17,
     "metadata": {},
     "output_type": "execute_result"
    }
   ],
   "source": [
    "key = 'test'\n",
    "unique_df[key]"
   ]
  },
  {
   "cell_type": "code",
   "execution_count": 18,
   "id": "b6c5785e",
   "metadata": {},
   "outputs": [],
   "source": [
    "key = 'train'"
   ]
  },
  {
   "cell_type": "code",
   "execution_count": 19,
   "id": "522ec473",
   "metadata": {},
   "outputs": [
    {
     "data": {
      "text/plain": [
       "<AxesSubplot:>"
      ]
     },
     "execution_count": 19,
     "metadata": {},
     "output_type": "execute_result"
    },
    {
     "data": {
      "image/png": "[encoded data removed]",
      "text/plain": [
       "<Figure size 432x288 with 1 Axes>"
      ]
     },
     "metadata": {
      "needs_background": "light"
     },
     "output_type": "display_data"
    }
   ],
   "source": [
    "col = 'city_development_index'\n",
    "data[key][col].hist()"
   ]
  },
  {
   "cell_type": "code",
   "execution_count": 20,
   "id": "f26b4253",
   "metadata": {},
   "outputs": [
    {
     "data": {
      "text/plain": [
       "<AxesSubplot:>"
      ]
     },
     "execution_count": 20,
     "metadata": {},
     "output_type": "execute_result"
    },
    {
     "data": {
      "image/png": "[encoded data removed]",
      "text/plain": [
       "<Figure size 432x288 with 1 Axes>"
      ]
     },
     "metadata": {
      "needs_background": "light"
     },
     "output_type": "display_data"
    }
   ],
   "source": [
    "col = 'training_hours'\n",
    "data[key][col].hist()"
   ]
  },
  {
   "cell_type": "code",
   "execution_count": 21,
   "id": "ff178dcf",
   "metadata": {},
   "outputs": [
    {
     "data": {
      "text/plain": [
       "<AxesSubplot:>"
      ]
     },
     "execution_count": 21,
     "metadata": {},
     "output_type": "execute_result"
    },
    {
     "data": {
      "image/png": "[encoded data removed]",
      "text/plain": [
       "<Figure size 432x288 with 1 Axes>"
      ]
     },
     "metadata": {
      "needs_background": "light"
     },
     "output_type": "display_data"
    }
   ],
   "source": [
    "col = 'experience'\n",
    "data[key][col].hist()"
   ]
  },
  {
   "cell_type": "code",
   "execution_count": 22,
   "id": "d0e4a581",
   "metadata": {},
   "outputs": [],
   "source": [
    "for key in data:\n",
    "\n",
    "    data[key]['experience'] = data[key]['experience'].apply(lambda x : 21 if x == '>20' else x)\n",
    "    data[key]['experience'] = data[key]['experience'].apply(lambda x : 0 if x == '<1' else x)\n",
    "    data[key]['experience'] = data[key]['experience'].apply(lambda x : 0 if x == 'NULL' else x)\n",
    "    data[key]['experience'] = data[key]['experience'].astype(int)"
   ]
  },
  {
   "cell_type": "code",
   "execution_count": 23,
   "id": "b4148327",
   "metadata": {},
   "outputs": [],
   "source": [
    "# aux['experiencia'] = aux['experience'].apply(lambda x: 0 if x == 'NULL' else 1)\n",
    "# aux['experiencia_relevante'] = aux['relevent_experience'].apply(lambda x : 0 if x == 'No relevent experience' else 1)\n",
    "\n",
    "# y_actu = pd.Series(aux['experiencia_relevante'], name='experiencia_relevante')\n",
    "# y_pred = pd.Series(aux['experiencia'], name='experiencia')\n",
    "# df_confusion = pd.crosstab(y_actu, y_pred)\n",
    "\n",
    "# df_confusion"
   ]
  },
  {
   "cell_type": "code",
   "execution_count": 24,
   "id": "08ca04a7",
   "metadata": {},
   "outputs": [
    {
     "data": {
      "text/plain": [
       "<AxesSubplot:xlabel='experience', ylabel='Density'>"
      ]
     },
     "execution_count": 24,
     "metadata": {},
     "output_type": "execute_result"
    },
    {
     "data": {
      "image/png": "[encoded data removed]",
      "text/plain": [
       "<Figure size 864x576 with 1 Axes>"
      ]
     },
     "metadata": {
      "needs_background": "light"
     },
     "output_type": "display_data"
    }
   ],
   "source": [
    "fig, ax = plt.subplots(figsize=(12, 8))\n",
    "pos = data['train'][data['train']['target'] == 1]\n",
    "neg = data['train'][data['train']['target'] == 0]\n",
    "sns.kdeplot(pos['experience'])\n",
    "sns.kdeplot(neg['experience'])"
   ]
  },
  {
   "cell_type": "markdown",
   "id": "84c01a67-aa47-433c-875a-2ce4958056ea",
   "metadata": {},
   "source": [
    "fig, ax = plt.subplots(figsize=(12, 8))\n",
    "pos = data['train'][data['train']['target'] == 1]\n",
    "neg = data['train'][data['train']['target'] == 0]\n",
    "sns.kdeplot(pos['experience'], label=)\n",
    "sns.kdeplot(neg['experience'], label)"
   ]
  },
  {
   "cell_type": "code",
   "execution_count": 25,
   "id": "5f39be0c",
   "metadata": {},
   "outputs": [
    {
     "ename": "KeyError",
     "evalue": "'target'",
     "output_type": "error",
     "traceback": [
      "\u001b[0;31m---------------------------------------------------------------------------\u001b[0m",
      "\u001b[0;31mKeyError\u001b[0m                                  Traceback (most recent call last)",
      "File \u001b[0;32m~/opt/anaconda3/lib/python3.9/site-packages/pandas/core/indexes/base.py:3621\u001b[0m, in \u001b[0;36mIndex.get_loc\u001b[0;34m(self, key, method, tolerance)\u001b[0m\n\u001b[1;32m   3620\u001b[0m \u001b[38;5;28;01mtry\u001b[39;00m:\n\u001b[0;32m-> 3621\u001b[0m     \u001b[38;5;28;01mreturn\u001b[39;00m \u001b[38;5;28;43mself\u001b[39;49m\u001b[38;5;241;43m.\u001b[39;49m\u001b[43m_engine\u001b[49m\u001b[38;5;241;43m.\u001b[39;49m\u001b[43mget_loc\u001b[49m\u001b[43m(\u001b[49m\u001b[43mcasted_key\u001b[49m\u001b[43m)\u001b[49m\n\u001b[1;32m   3622\u001b[0m \u001b[38;5;28;01mexcept\u001b[39;00m \u001b[38;5;167;01mKeyError\u001b[39;00m \u001b[38;5;28;01mas\u001b[39;00m err:\n",
      "File \u001b[0;32m~/opt/anaconda3/lib/python3.9/site-packages/pandas/_libs/index.pyx:136\u001b[0m, in \u001b[0;36mpandas._libs.index.IndexEngine.get_loc\u001b[0;34m()\u001b[0m\n",
      "File \u001b[0;32m~/opt/anaconda3/lib/python3.9/site-packages/pandas/_libs/index.pyx:163\u001b[0m, in \u001b[0;36mpandas._libs.index.IndexEngine.get_loc\u001b[0;34m()\u001b[0m\n",
      "File \u001b[0;32mpandas/_libs/hashtable_class_helper.pxi:5198\u001b[0m, in \u001b[0;36mpandas._libs.hashtable.PyObjectHashTable.get_item\u001b[0;34m()\u001b[0m\n",
      "File \u001b[0;32mpandas/_libs/hashtable_class_helper.pxi:5206\u001b[0m, in \u001b[0;36mpandas._libs.hashtable.PyObjectHashTable.get_item\u001b[0;34m()\u001b[0m\n",
      "\u001b[0;31mKeyError\u001b[0m: 'target'",
      "\nThe above exception was the direct cause of the following exception:\n",
      "\u001b[0;31mKeyError\u001b[0m                                  Traceback (most recent call last)",
      "Input \u001b[0;32mIn [25]\u001b[0m, in \u001b[0;36m<cell line: 1>\u001b[0;34m()\u001b[0m\n\u001b[0;32m----> 1\u001b[0m mean_target \u001b[38;5;241m=\u001b[39m \u001b[43mdata\u001b[49m\u001b[43m[\u001b[49m\u001b[43mkey\u001b[49m\u001b[43m]\u001b[49m\u001b[43m[\u001b[49m\u001b[38;5;124;43m'\u001b[39;49m\u001b[38;5;124;43mtarget\u001b[39;49m\u001b[38;5;124;43m'\u001b[39;49m\u001b[43m]\u001b[49m\u001b[38;5;241m.\u001b[39mmean()\n",
      "File \u001b[0;32m~/opt/anaconda3/lib/python3.9/site-packages/pandas/core/frame.py:3505\u001b[0m, in \u001b[0;36mDataFrame.__getitem__\u001b[0;34m(self, key)\u001b[0m\n\u001b[1;32m   3503\u001b[0m \u001b[38;5;28;01mif\u001b[39;00m \u001b[38;5;28mself\u001b[39m\u001b[38;5;241m.\u001b[39mcolumns\u001b[38;5;241m.\u001b[39mnlevels \u001b[38;5;241m>\u001b[39m \u001b[38;5;241m1\u001b[39m:\n\u001b[1;32m   3504\u001b[0m     \u001b[38;5;28;01mreturn\u001b[39;00m \u001b[38;5;28mself\u001b[39m\u001b[38;5;241m.\u001b[39m_getitem_multilevel(key)\n\u001b[0;32m-> 3505\u001b[0m indexer \u001b[38;5;241m=\u001b[39m \u001b[38;5;28;43mself\u001b[39;49m\u001b[38;5;241;43m.\u001b[39;49m\u001b[43mcolumns\u001b[49m\u001b[38;5;241;43m.\u001b[39;49m\u001b[43mget_loc\u001b[49m\u001b[43m(\u001b[49m\u001b[43mkey\u001b[49m\u001b[43m)\u001b[49m\n\u001b[1;32m   3506\u001b[0m \u001b[38;5;28;01mif\u001b[39;00m is_integer(indexer):\n\u001b[1;32m   3507\u001b[0m     indexer \u001b[38;5;241m=\u001b[39m [indexer]\n",
      "File \u001b[0;32m~/opt/anaconda3/lib/python3.9/site-packages/pandas/core/indexes/base.py:3623\u001b[0m, in \u001b[0;36mIndex.get_loc\u001b[0;34m(self, key, method, tolerance)\u001b[0m\n\u001b[1;32m   3621\u001b[0m     \u001b[38;5;28;01mreturn\u001b[39;00m \u001b[38;5;28mself\u001b[39m\u001b[38;5;241m.\u001b[39m_engine\u001b[38;5;241m.\u001b[39mget_loc(casted_key)\n\u001b[1;32m   3622\u001b[0m \u001b[38;5;28;01mexcept\u001b[39;00m \u001b[38;5;167;01mKeyError\u001b[39;00m \u001b[38;5;28;01mas\u001b[39;00m err:\n\u001b[0;32m-> 3623\u001b[0m     \u001b[38;5;28;01mraise\u001b[39;00m \u001b[38;5;167;01mKeyError\u001b[39;00m(key) \u001b[38;5;28;01mfrom\u001b[39;00m \u001b[38;5;21;01merr\u001b[39;00m\n\u001b[1;32m   3624\u001b[0m \u001b[38;5;28;01mexcept\u001b[39;00m \u001b[38;5;167;01mTypeError\u001b[39;00m:\n\u001b[1;32m   3625\u001b[0m     \u001b[38;5;66;03m# If we have a listlike key, _check_indexing_error will raise\u001b[39;00m\n\u001b[1;32m   3626\u001b[0m     \u001b[38;5;66;03m#  InvalidIndexError. Otherwise we fall through and re-raise\u001b[39;00m\n\u001b[1;32m   3627\u001b[0m     \u001b[38;5;66;03m#  the TypeError.\u001b[39;00m\n\u001b[1;32m   3628\u001b[0m     \u001b[38;5;28mself\u001b[39m\u001b[38;5;241m.\u001b[39m_check_indexing_error(key)\n",
      "\u001b[0;31mKeyError\u001b[0m: 'target'"
     ]
    }
   ],
   "source": [
    "mean_target = data[key]['target'].mean()"
   ]
  },
  {
   "cell_type": "code",
   "execution_count": null,
   "id": "cd51665f",
   "metadata": {},
   "outputs": [],
   "source": [
    "col = 'education_level'\n",
    "\n",
    "agg = data[key].groupby(col)['target'].agg(['mean', 'std', 'count'])\n",
    "\n",
    "agg = agg.sort_values(by='mean')\n",
    "\n",
    "fig, ax = plt.subplots(figsize=(12, 8))\n",
    "ax.barh(agg.index, agg['mean'], xerr=agg['std'] / np.sqrt(agg['count']))\n",
    "ax.axvline(mean_target, color='black', linestyle='--')"
   ]
  },
  {
   "cell_type": "code",
   "execution_count": null,
   "id": "5eeab8ac",
   "metadata": {},
   "outputs": [],
   "source": [
    "col = 'major_discipline'\n",
    "\n",
    "agg = data[key].groupby(col)['target'].agg(['mean', 'std', 'count'])\n",
    "\n",
    "agg = agg.sort_values(by='mean')\n",
    "\n",
    "fig, ax = plt.subplots(figsize=(12, 8))\n",
    "ax.barh(agg.index, agg['mean'], xerr=agg['std'] / np.sqrt(agg['count']))\n",
    "ax.axvline(mean_target, color='black', linestyle='--')"
   ]
  },
  {
   "cell_type": "code",
   "execution_count": null,
   "id": "8b11e1a4",
   "metadata": {},
   "outputs": [],
   "source": [
    "col = 'gender'\n",
    "\n",
    "agg = data[key].groupby(col)['target'].agg(['mean', 'std', 'count'])\n",
    "\n",
    "agg = agg.sort_values(by='mean')\n",
    "\n",
    "fig, ax = plt.subplots(figsize=(12, 8))\n",
    "ax.barh(agg.index, agg['mean'], xerr=agg['std'] / np.sqrt(agg['count']))\n",
    "ax.axvline(mean_target, color='black', linestyle='--')"
   ]
  },
  {
   "cell_type": "code",
   "execution_count": null,
   "id": "0cd88663",
   "metadata": {},
   "outputs": [],
   "source": [
    "col = 'company_type'\n",
    "\n",
    "agg = data[key].groupby(col)['target'].agg(['mean', 'std', 'count'])\n",
    "\n",
    "agg = agg.sort_values(by='mean')\n",
    "\n",
    "fig, ax = plt.subplots(figsize=(12, 8))\n",
    "ax.barh(agg.index, agg['mean'], xerr=agg['std'] / np.sqrt(agg['count']))\n",
    "ax.axvline(mean_target, color='black', linestyle='--')"
   ]
  },
  {
   "cell_type": "code",
   "execution_count": null,
   "id": "6a858256",
   "metadata": {},
   "outputs": [],
   "source": [
    "# data['train']['company_size'] = data['train']['company_size'].apply(lambda x : 75 if x == '50-99' else x)\n",
    "# data['train']['company_size'] = data['train']['company_size'].apply(lambda x : 350 if x == '100-500' else x)\n",
    "# data['train']['company_size'] = data['train']['company_size'].apply(lambda x : 10000 if x == '10000+' else x)\n",
    "# data['train']['company_size'] = data['train']['company_size'].apply(lambda x : 35 if x == '10/49' else x)\n",
    "# data['train']['company_size'] = data['train']['company_size'].apply(lambda x : 3500 if x == '1000-4999' else x)\n",
    "# data['train']['company_size'] = data['train']['company_size'].apply(lambda x : 5 if x == '<10' else x)\n",
    "# data['train']['company_size'] = data['train']['company_size'].apply(lambda x : 750 if x == '500-999' else x)\n",
    "# data['train']['company_size'] = data['train']['company_size'].apply(lambda x : 7500 if x == '5000-9999' else x)\n",
    "# data['train']['company_size'] = data['train']['company_size'].apply(lambda x : None if x == 'NULL' else x)\n",
    "# data['train']['company_size'] = data['train']['company_size'].fillna(data['train']['company_size'].mean())\n",
    "\n",
    "# data['train']['company_size'] = data['train']['company_size'].astype(int)\n",
    "\n",
    "# fig, ax = plt.subplots(figsize=(12, 8))\n",
    "# pos = data['train'][data['train']['target'] == 1]\n",
    "# neg = data['train'][data['train']['target'] == 0]\n",
    "# sns.kdeplot(pos['company_size'])\n",
    "# sns.kdeplot(neg['company_size'])"
   ]
  },
  {
   "cell_type": "markdown",
   "id": "28fca89e",
   "metadata": {},
   "source": [
    "## Model"
   ]
  },
  {
   "cell_type": "code",
   "execution_count": 49,
   "id": "8e7e3d9c",
   "metadata": {},
   "outputs": [
    {
     "name": "stderr",
     "output_type": "stream",
     "text": [
      "/var/folders/8s/vcwxyvv93jlbc3gkwsvl2xtm0000gn/T/ipykernel_12505/2798608303.py:1: FutureWarning: In a future version of pandas all arguments of DataFrame.drop except for the argument 'labels' will be keyword-only.\n",
      "  X_train, X_test, y_train, y_test = train_test_split(data['train'].drop('target', 1), data['train']['target'],\n"
     ]
    }
   ],
   "source": [
    "X_train, X_test, y_train, y_test = train_test_split(data['train'].drop('target', 1), data['train']['target'],\n",
    "                                                    test_size=0.2, random_state=21045)"
   ]
  },
  {
   "cell_type": "code",
   "execution_count": 50,
   "id": "6a89af16",
   "metadata": {},
   "outputs": [],
   "source": [
    "numerical = ['city_development_index', 'training_hours', 'experience']\n",
    "categorical = ['education_level', 'gender', 'company_type', 'major_discipline']"
   ]
  },
  {
   "cell_type": "code",
   "execution_count": 51,
   "id": "e8b82254",
   "metadata": {},
   "outputs": [],
   "source": [
    "# continuas = ['m2 construidos', 'recamaras', 'estacionamientos', 'banios', 'medio banio', 'elevador', 'antiguedad',\n",
    "#              'av_cercanas',  'farmacias',\n",
    "#             ]\n",
    "standard_scaler = StandardScaler()\n",
    "\n",
    "# categoricas = ['colonia']\n",
    "\n",
    "ohe = OneHotEncoder(handle_unknown=\"ignore\")\n",
    "# ohe = OneHotEncoder(handle_unknown=\"error\", drop='first')\n",
    "\n",
    "preprocesador = ColumnTransformer(\n",
    "    transformers=[\n",
    "        (\"con\", standard_scaler, numerical),\n",
    "        (\"cat\", ohe, categorical),\n",
    "    ]\n",
    ")"
   ]
  },
  {
   "cell_type": "code",
   "execution_count": 86,
   "id": "ebcc7ff8",
   "metadata": {},
   "outputs": [],
   "source": [
    "modelo = LogisticRegression(random_state=21045, penalty='l1', solver='liblinear')\n",
    "\n",
    "parametros = {\n",
    "              'model__C': [-1,0,1,10]\n",
    "            #'model__C': [0,0.05,0.1,0.25,1], \n",
    "#               'model__max_depth': [5, 7, 8, 9],                            \n",
    "             }\n",
    "\n",
    "# modelo = Lasso(random_state=cs.random_state, max_iter=10_000)\n",
    "\n",
    "# parametros = {\n",
    "#               'model__alpha': [1000, 2500, 5000, 7500, 10000], \n",
    "#              }"
   ]
  },
  {
   "cell_type": "code",
   "execution_count": 87,
   "id": "ffa8b1e1",
   "metadata": {},
   "outputs": [],
   "source": [
    "pipe = Pipeline(steps=[(\"pre\", preprocesador), (\"model\", modelo)])"
   ]
  },
  {
   "cell_type": "code",
   "execution_count": 88,
   "id": "33b9eb9d",
   "metadata": {},
   "outputs": [],
   "source": [
    "grid = GridSearchCV(pipe, parametros, n_jobs=2)"
   ]
  },
  {
   "cell_type": "code",
   "execution_count": 89,
   "id": "d34620a1",
   "metadata": {},
   "outputs": [
    {
     "name": "stderr",
     "output_type": "stream",
     "text": [
      "/Users/analuciagonzalez/opt/anaconda3/lib/python3.9/site-packages/sklearn/model_selection/_validation.py:372: FitFailedWarning: \n",
      "10 fits failed out of a total of 20.\n",
      "The score on these train-test partitions for these parameters will be set to nan.\n",
      "If these failures are not expected, you can try to debug them by setting error_score='raise'.\n",
      "\n",
      "Below are more details about the failures:\n",
      "--------------------------------------------------------------------------------\n",
      "5 fits failed with the following error:\n",
      "Traceback (most recent call last):\n",
      "  File \"/Users/analuciagonzalez/opt/anaconda3/lib/python3.9/site-packages/sklearn/model_selection/_validation.py\", line 680, in _fit_and_score\n",
      "    estimator.fit(X_train, y_train, **fit_params)\n",
      "  File \"/Users/analuciagonzalez/opt/anaconda3/lib/python3.9/site-packages/sklearn/pipeline.py\", line 394, in fit\n",
      "    self._final_estimator.fit(Xt, y, **fit_params_last_step)\n",
      "  File \"/Users/analuciagonzalez/opt/anaconda3/lib/python3.9/site-packages/sklearn/linear_model/_logistic.py\", line 1464, in fit\n",
      "    raise ValueError(\"Penalty term must be positive; got (C=%r)\" % self.C)\n",
      "ValueError: Penalty term must be positive; got (C=-1)\n",
      "\n",
      "--------------------------------------------------------------------------------\n",
      "5 fits failed with the following error:\n",
      "Traceback (most recent call last):\n",
      "  File \"/Users/analuciagonzalez/opt/anaconda3/lib/python3.9/site-packages/sklearn/model_selection/_validation.py\", line 680, in _fit_and_score\n",
      "    estimator.fit(X_train, y_train, **fit_params)\n",
      "  File \"/Users/analuciagonzalez/opt/anaconda3/lib/python3.9/site-packages/sklearn/pipeline.py\", line 394, in fit\n",
      "    self._final_estimator.fit(Xt, y, **fit_params_last_step)\n",
      "  File \"/Users/analuciagonzalez/opt/anaconda3/lib/python3.9/site-packages/sklearn/linear_model/_logistic.py\", line 1528, in fit\n",
      "    self.coef_, self.intercept_, n_iter_ = _fit_liblinear(\n",
      "  File \"/Users/analuciagonzalez/opt/anaconda3/lib/python3.9/site-packages/sklearn/svm/_base.py\", line 1186, in _fit_liblinear\n",
      "    raw_coef_, n_iter_ = liblinear.train_wrap(\n",
      "  File \"sklearn/svm/_liblinear.pyx\", line 52, in sklearn.svm._liblinear.train_wrap\n",
      "ValueError: b'C <= 0'\n",
      "\n",
      "  warnings.warn(some_fits_failed_message, FitFailedWarning)\n",
      "/Users/analuciagonzalez/opt/anaconda3/lib/python3.9/site-packages/sklearn/model_selection/_search.py:969: UserWarning: One or more of the test scores are non-finite: [       nan        nan 0.76729201 0.76786297]\n",
      "  warnings.warn(\n"
     ]
    },
    {
     "name": "stdout",
     "output_type": "stream",
     "text": [
      "Modelo entrenado.\n"
     ]
    }
   ],
   "source": [
    "grid.fit(X_train, y_train)\n",
    "print('Modelo entrenado.')"
   ]
  },
  {
   "cell_type": "code",
   "execution_count": 90,
   "id": "bc89a3c5",
   "metadata": {},
   "outputs": [
    {
     "data": {
      "text/plain": [
       "{'model__C': 10}"
      ]
     },
     "execution_count": 90,
     "metadata": {},
     "output_type": "execute_result"
    }
   ],
   "source": [
    "grid.best_params_"
   ]
  },
  {
   "cell_type": "markdown",
   "id": "15b16902-6224-4a76-916b-8be32e9fb143",
   "metadata": {},
   "source": [
    "y_pred = grid.best_estimator_.predict(X_train)\n",
    "y_pred = pd.Series(y_pred, name='Pred')\n",
    "\n",
    "y_true = np.array(y_train)\n",
    "y_true = pd.Series(y_true, name='True')\n",
    "\n",
    "df_confusion = pd.crosstab(y_true, y_pred)\n",
    "df_confusion"
   ]
  },
  {
   "cell_type": "code",
   "execution_count": 91,
   "id": "53417a84-f765-4833-a720-1440edf5ae34",
   "metadata": {},
   "outputs": [
    {
     "data": {
      "text/html": [
       "<div>\n",
       "<style scoped>\n",
       "    .dataframe tbody tr th:only-of-type {\n",
       "        vertical-align: middle;\n",
       "    }\n",
       "\n",
       "    .dataframe tbody tr th {\n",
       "        vertical-align: top;\n",
       "    }\n",
       "\n",
       "    .dataframe thead th {\n",
       "        text-align: right;\n",
       "    }\n",
       "</style>\n",
       "<table border=\"1\" class=\"dataframe\">\n",
       "  <thead>\n",
       "    <tr style=\"text-align: right;\">\n",
       "      <th>Pred</th>\n",
       "      <th>0.0</th>\n",
       "      <th>1.0</th>\n",
       "    </tr>\n",
       "    <tr>\n",
       "      <th>True</th>\n",
       "      <th></th>\n",
       "      <th></th>\n",
       "    </tr>\n",
       "  </thead>\n",
       "  <tbody>\n",
       "    <tr>\n",
       "      <th>0.0</th>\n",
       "      <td>8576</td>\n",
       "      <td>577</td>\n",
       "    </tr>\n",
       "    <tr>\n",
       "      <th>1.0</th>\n",
       "      <td>2269</td>\n",
       "      <td>838</td>\n",
       "    </tr>\n",
       "  </tbody>\n",
       "</table>\n",
       "</div>"
      ],
      "text/plain": [
       "Pred   0.0  1.0\n",
       "True           \n",
       "0.0   8576  577\n",
       "1.0   2269  838"
      ]
     },
     "execution_count": 91,
     "metadata": {},
     "output_type": "execute_result"
    }
   ],
   "source": [
    "y_pred = grid.best_estimator_.predict(X_train)\n",
    "y_pred = pd.Series(y_pred, name='Pred')\n",
    "\n",
    "y_true = np.array(y_train)\n",
    "y_true = pd.Series(y_true, name='True')\n",
    "\n",
    "df_confusion = pd.crosstab(y_true, y_pred)\n",
    "df_confusion"
   ]
  },
  {
   "cell_type": "code",
   "execution_count": 92,
   "id": "0d7acabc-a5f6-46f3-9a15-2965084c609a",
   "metadata": {},
   "outputs": [
    {
     "data": {
      "text/plain": [
       "0.7699585535331823"
      ]
     },
     "execution_count": 92,
     "metadata": {},
     "output_type": "execute_result"
    }
   ],
   "source": [
    "y_prob = grid.best_estimator_.predict_proba(X_train)\n",
    "roc_auc_score(y_true, y_prob[:,1])"
   ]
  },
  {
   "cell_type": "code",
   "execution_count": 93,
   "id": "4143511d-8c50-4f47-89c7-a4d0a4878a2a",
   "metadata": {},
   "outputs": [
    {
     "data": {
      "text/plain": [
       "0.6033370547138583"
      ]
     },
     "execution_count": 93,
     "metadata": {},
     "output_type": "execute_result"
    }
   ],
   "source": [
    "roc_auc_score(y_true, y_pred)"
   ]
  },
  {
   "cell_type": "code",
   "execution_count": 94,
   "id": "2b0c74ad-85f7-4ce9-922b-b945bc9e8e0f",
   "metadata": {},
   "outputs": [
    {
     "data": {
      "text/html": [
       "<div>\n",
       "<style scoped>\n",
       "    .dataframe tbody tr th:only-of-type {\n",
       "        vertical-align: middle;\n",
       "    }\n",
       "\n",
       "    .dataframe tbody tr th {\n",
       "        vertical-align: top;\n",
       "    }\n",
       "\n",
       "    .dataframe thead th {\n",
       "        text-align: right;\n",
       "    }\n",
       "</style>\n",
       "<table border=\"1\" class=\"dataframe\">\n",
       "  <thead>\n",
       "    <tr style=\"text-align: right;\">\n",
       "      <th>Pred</th>\n",
       "      <th>0.0</th>\n",
       "      <th>1.0</th>\n",
       "    </tr>\n",
       "    <tr>\n",
       "      <th>True</th>\n",
       "      <th></th>\n",
       "      <th></th>\n",
       "    </tr>\n",
       "  </thead>\n",
       "  <tbody>\n",
       "    <tr>\n",
       "      <th>0.0</th>\n",
       "      <td>2196</td>\n",
       "      <td>153</td>\n",
       "    </tr>\n",
       "    <tr>\n",
       "      <th>1.0</th>\n",
       "      <td>538</td>\n",
       "      <td>179</td>\n",
       "    </tr>\n",
       "  </tbody>\n",
       "</table>\n",
       "</div>"
      ],
      "text/plain": [
       "Pred   0.0  1.0\n",
       "True           \n",
       "0.0   2196  153\n",
       "1.0    538  179"
      ]
     },
     "execution_count": 94,
     "metadata": {},
     "output_type": "execute_result"
    }
   ],
   "source": [
    "y_pred = grid.best_estimator_.predict(X_test)\n",
    "y_pred = pd.Series(y_pred, name='Pred')\n",
    "\n",
    "y_true = np.array(y_test)\n",
    "y_true = pd.Series(y_true, name='True')\n",
    "\n",
    "df_confusion = pd.crosstab(y_true, y_pred)\n",
    "df_confusion"
   ]
  },
  {
   "cell_type": "code",
   "execution_count": 95,
   "id": "a62f0fbd",
   "metadata": {},
   "outputs": [
    {
     "data": {
      "text/plain": [
       "0.7791074631597885"
      ]
     },
     "execution_count": 95,
     "metadata": {},
     "output_type": "execute_result"
    }
   ],
   "source": [
    "y_prob = grid.best_estimator_.predict_proba(X_test)\n",
    "roc_auc_score(y_true, y_prob[:,1])"
   ]
  },
  {
   "cell_type": "code",
   "execution_count": 96,
   "id": "12c19119",
   "metadata": {},
   "outputs": [
    {
     "data": {
      "text/plain": [
       "0.592258612674137"
      ]
     },
     "execution_count": 96,
     "metadata": {},
     "output_type": "execute_result"
    }
   ],
   "source": [
    "roc_auc_score(y_true, y_pred)"
   ]
  },
  {
   "cell_type": "markdown",
   "id": "41a1872d",
   "metadata": {},
   "source": [
    "## Submission"
   ]
  },
  {
   "cell_type": "code",
   "execution_count": 45,
   "id": "68dd2220",
   "metadata": {},
   "outputs": [],
   "source": [
    "submission_csv = data['test'].copy()\n",
    "\n",
    "# submission_csv['target'] = grid.best_estimator_.predict(submission_csv)\n",
    "submission_csv['target'] = grid.best_estimator_.predict_proba(submission_csv)[:]\n",
    "\n",
    "submission_csv = submission_csv[['enrollee_id', 'target']]\n",
    "submission_csv = submission_csv.set_index('enrollee_id')"
   ]
  },
  {
   "cell_type": "code",
   "execution_count": 46,
   "id": "d23c9875",
   "metadata": {},
   "outputs": [],
   "source": [
    "submission_csv.to_csv('submission_2_lu.csv')"
   ]
  },
  {
   "cell_type": "code",
   "execution_count": null,
   "id": "7568ee23-7aa3-45e3-87e4-5b194daff452",
   "metadata": {},
   "outputs": [],
   "source": []
  }
 ],
 "metadata": {
  "kernelspec": {
   "display_name": "Python 3 (ipykernel)",
   "language": "python",
   "name": "python3"
  },
  "language_info": {
   "codemirror_mode": {
    "name": "ipython",
    "version": 3
   },
   "file_extension": ".py",
   "mimetype": "text/x-python",
   "name": "python",
   "nbconvert_exporter": "python",
   "pygments_lexer": "ipython3",
   "version": "3.9.12"
  }
 },
 "nbformat": 4,
 "nbformat_minor": 5
}
